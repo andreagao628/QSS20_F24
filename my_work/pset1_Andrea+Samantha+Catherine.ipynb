{
 "cells": [
  {
   "cell_type": "markdown",
   "metadata": {},
   "source": [
    "# Problem Set 1: Analysis of racial disparities in felony sentencing"
   ]
  },
  {
   "cell_type": "markdown",
   "metadata": {},
   "source": [
    "# 0. Load packages and imports"
   ]
  },
  {
   "cell_type": "code",
   "execution_count": 2,
   "metadata": {},
   "outputs": [],
   "source": [
    "## basic functionality\n",
    "import pandas as pd\n",
    "import numpy as np\n",
    "import matplotlib.pyplot as plt\n",
    "import re\n",
    "import pickle\n",
    "\n",
    "\n",
    "## can add others if you need them\n",
    "\n",
    "## repeated printouts\n",
    "from IPython.core.interactiveshell import InteractiveShell\n",
    "InteractiveShell.ast_node_interactivity = \"all\"\n"
   ]
  },
  {
   "cell_type": "markdown",
   "metadata": {},
   "source": [
    "## 0.1: Load the data (0 points)\n",
    "\n",
    "Load the `sentencing_asof0405.csv` data\n",
    "\n",
    "*Notes*: You may receive a warning about mixed data types upon import; feel free to ignore"
   ]
  },
  {
   "cell_type": "code",
   "execution_count": 4,
   "metadata": {},
   "outputs": [
    {
     "name": "stderr",
     "output_type": "stream",
     "text": [
      "/var/folders/lq/nvsx7rwj0nz3xmwslrrk6j800000gn/T/ipykernel_1976/2554269315.py:1: DtypeWarning: Columns (10,11,14,25) have mixed types. Specify dtype option on import or set low_memory=False.\n",
      "  df = pd.read_csv('/Users/andreagao/Downloads/pset1_inputdata/sentencing_asof0405.csv')\n"
     ]
    }
   ],
   "source": [
    "df = pd.read_csv('/Users/andreagao/Downloads/pset1_inputdata/sentencing_asof0405.csv')"
   ]
  },
  {
   "cell_type": "markdown",
   "metadata": {},
   "source": [
    "## 0.2: Print head, dimensions, info (0 points)"
   ]
  },
  {
   "cell_type": "code",
   "execution_count": 6,
   "metadata": {},
   "outputs": [
    {
     "data": {
      "text/html": [
       "<div>\n",
       "<style scoped>\n",
       "    .dataframe tbody tr th:only-of-type {\n",
       "        vertical-align: middle;\n",
       "    }\n",
       "\n",
       "    .dataframe tbody tr th {\n",
       "        vertical-align: top;\n",
       "    }\n",
       "\n",
       "    .dataframe thead th {\n",
       "        text-align: right;\n",
       "    }\n",
       "</style>\n",
       "<table border=\"1\" class=\"dataframe\">\n",
       "  <thead>\n",
       "    <tr style=\"text-align: right;\">\n",
       "      <th></th>\n",
       "      <th>CASE_ID</th>\n",
       "      <th>CASE_PARTICIPANT_ID</th>\n",
       "      <th>RECEIVED_DATE</th>\n",
       "      <th>OFFENSE_CATEGORY</th>\n",
       "      <th>PRIMARY_CHARGE_FLAG</th>\n",
       "      <th>CHARGE_ID</th>\n",
       "      <th>CHARGE_VERSION_ID</th>\n",
       "      <th>DISPOSITION_CHARGED_OFFENSE_TITLE</th>\n",
       "      <th>CHARGE_COUNT</th>\n",
       "      <th>DISPOSITION_DATE</th>\n",
       "      <th>...</th>\n",
       "      <th>INCIDENT_CITY</th>\n",
       "      <th>INCIDENT_BEGIN_DATE</th>\n",
       "      <th>INCIDENT_END_DATE</th>\n",
       "      <th>LAW_ENFORCEMENT_AGENCY</th>\n",
       "      <th>LAW_ENFORCEMENT_UNIT</th>\n",
       "      <th>ARREST_DATE</th>\n",
       "      <th>FELONY_REVIEW_DATE</th>\n",
       "      <th>FELONY_REVIEW_RESULT</th>\n",
       "      <th>ARRAIGNMENT_DATE</th>\n",
       "      <th>UPDATED_OFFENSE_CATEGORY</th>\n",
       "    </tr>\n",
       "  </thead>\n",
       "  <tbody>\n",
       "    <tr>\n",
       "      <th>0</th>\n",
       "      <td>149765331439</td>\n",
       "      <td>175691153649</td>\n",
       "      <td>8/15/1984 12:00:00 AM</td>\n",
       "      <td>PROMIS Conversion</td>\n",
       "      <td>False</td>\n",
       "      <td>50510112469</td>\n",
       "      <td>116304211997</td>\n",
       "      <td>FIRST DEGREE MURDER</td>\n",
       "      <td>2</td>\n",
       "      <td>12/17/2014 12:00:00 AM</td>\n",
       "      <td>...</td>\n",
       "      <td>NaN</td>\n",
       "      <td>8/9/1984 12:00:00 AM</td>\n",
       "      <td>NaN</td>\n",
       "      <td>CHICAGO POLICE DEPT</td>\n",
       "      <td>NaN</td>\n",
       "      <td>8/15/1984 12:00:00 AM</td>\n",
       "      <td>08/15/1984 12:00:00 AM</td>\n",
       "      <td>Charge(S) Approved</td>\n",
       "      <td>9/21/1984 12:00:00 AM</td>\n",
       "      <td>Homicide</td>\n",
       "    </tr>\n",
       "    <tr>\n",
       "      <th>1</th>\n",
       "      <td>149765331439</td>\n",
       "      <td>175691153649</td>\n",
       "      <td>8/15/1984 12:00:00 AM</td>\n",
       "      <td>PROMIS Conversion</td>\n",
       "      <td>False</td>\n",
       "      <td>50510213021</td>\n",
       "      <td>98265074680</td>\n",
       "      <td>HOME INVASION</td>\n",
       "      <td>14</td>\n",
       "      <td>12/17/2014 12:00:00 AM</td>\n",
       "      <td>...</td>\n",
       "      <td>NaN</td>\n",
       "      <td>8/9/1984 12:00:00 AM</td>\n",
       "      <td>NaN</td>\n",
       "      <td>CHICAGO POLICE DEPT</td>\n",
       "      <td>NaN</td>\n",
       "      <td>8/15/1984 12:00:00 AM</td>\n",
       "      <td>08/15/1984 12:00:00 AM</td>\n",
       "      <td>Charge(S) Approved</td>\n",
       "      <td>9/21/1984 12:00:00 AM</td>\n",
       "      <td>Homicide</td>\n",
       "    </tr>\n",
       "    <tr>\n",
       "      <th>2</th>\n",
       "      <td>149765331439</td>\n",
       "      <td>175691153649</td>\n",
       "      <td>8/15/1984 12:00:00 AM</td>\n",
       "      <td>PROMIS Conversion</td>\n",
       "      <td>False</td>\n",
       "      <td>50516447217</td>\n",
       "      <td>131972895911</td>\n",
       "      <td>FIRST DEGREE MURDER</td>\n",
       "      <td>4</td>\n",
       "      <td>12/17/2014 12:00:00 AM</td>\n",
       "      <td>...</td>\n",
       "      <td>NaN</td>\n",
       "      <td>8/9/1984 12:00:00 AM</td>\n",
       "      <td>NaN</td>\n",
       "      <td>CHICAGO POLICE DEPT</td>\n",
       "      <td>NaN</td>\n",
       "      <td>8/15/1984 12:00:00 AM</td>\n",
       "      <td>08/15/1984 12:00:00 AM</td>\n",
       "      <td>Charge(S) Approved</td>\n",
       "      <td>9/21/1984 12:00:00 AM</td>\n",
       "      <td>Homicide</td>\n",
       "    </tr>\n",
       "    <tr>\n",
       "      <th>3</th>\n",
       "      <td>149765331439</td>\n",
       "      <td>175691153649</td>\n",
       "      <td>8/15/1984 12:00:00 AM</td>\n",
       "      <td>PROMIS Conversion</td>\n",
       "      <td>False</td>\n",
       "      <td>50516497493</td>\n",
       "      <td>131966356472</td>\n",
       "      <td>FIRST DEGREE MURDER</td>\n",
       "      <td>5</td>\n",
       "      <td>12/17/2014 12:00:00 AM</td>\n",
       "      <td>...</td>\n",
       "      <td>NaN</td>\n",
       "      <td>8/9/1984 12:00:00 AM</td>\n",
       "      <td>NaN</td>\n",
       "      <td>CHICAGO POLICE DEPT</td>\n",
       "      <td>NaN</td>\n",
       "      <td>8/15/1984 12:00:00 AM</td>\n",
       "      <td>08/15/1984 12:00:00 AM</td>\n",
       "      <td>Charge(S) Approved</td>\n",
       "      <td>9/21/1984 12:00:00 AM</td>\n",
       "      <td>Homicide</td>\n",
       "    </tr>\n",
       "    <tr>\n",
       "      <th>4</th>\n",
       "      <td>149765331439</td>\n",
       "      <td>175691153649</td>\n",
       "      <td>8/15/1984 12:00:00 AM</td>\n",
       "      <td>PROMIS Conversion</td>\n",
       "      <td>False</td>\n",
       "      <td>50516648320</td>\n",
       "      <td>98059642859</td>\n",
       "      <td>HOME INVASION</td>\n",
       "      <td>13</td>\n",
       "      <td>12/17/2014 12:00:00 AM</td>\n",
       "      <td>...</td>\n",
       "      <td>NaN</td>\n",
       "      <td>8/9/1984 12:00:00 AM</td>\n",
       "      <td>NaN</td>\n",
       "      <td>CHICAGO POLICE DEPT</td>\n",
       "      <td>NaN</td>\n",
       "      <td>8/15/1984 12:00:00 AM</td>\n",
       "      <td>08/15/1984 12:00:00 AM</td>\n",
       "      <td>Charge(S) Approved</td>\n",
       "      <td>9/21/1984 12:00:00 AM</td>\n",
       "      <td>Homicide</td>\n",
       "    </tr>\n",
       "  </tbody>\n",
       "</table>\n",
       "<p>5 rows × 41 columns</p>\n",
       "</div>"
      ],
      "text/plain": [
       "        CASE_ID  CASE_PARTICIPANT_ID          RECEIVED_DATE  \\\n",
       "0  149765331439         175691153649  8/15/1984 12:00:00 AM   \n",
       "1  149765331439         175691153649  8/15/1984 12:00:00 AM   \n",
       "2  149765331439         175691153649  8/15/1984 12:00:00 AM   \n",
       "3  149765331439         175691153649  8/15/1984 12:00:00 AM   \n",
       "4  149765331439         175691153649  8/15/1984 12:00:00 AM   \n",
       "\n",
       "    OFFENSE_CATEGORY  PRIMARY_CHARGE_FLAG    CHARGE_ID  CHARGE_VERSION_ID  \\\n",
       "0  PROMIS Conversion                False  50510112469       116304211997   \n",
       "1  PROMIS Conversion                False  50510213021        98265074680   \n",
       "2  PROMIS Conversion                False  50516447217       131972895911   \n",
       "3  PROMIS Conversion                False  50516497493       131966356472   \n",
       "4  PROMIS Conversion                False  50516648320        98059642859   \n",
       "\n",
       "  DISPOSITION_CHARGED_OFFENSE_TITLE  CHARGE_COUNT        DISPOSITION_DATE  \\\n",
       "0               FIRST DEGREE MURDER             2  12/17/2014 12:00:00 AM   \n",
       "1                     HOME INVASION            14  12/17/2014 12:00:00 AM   \n",
       "2               FIRST DEGREE MURDER             4  12/17/2014 12:00:00 AM   \n",
       "3               FIRST DEGREE MURDER             5  12/17/2014 12:00:00 AM   \n",
       "4                     HOME INVASION            13  12/17/2014 12:00:00 AM   \n",
       "\n",
       "   ... INCIDENT_CITY   INCIDENT_BEGIN_DATE INCIDENT_END_DATE  \\\n",
       "0  ...           NaN  8/9/1984 12:00:00 AM               NaN   \n",
       "1  ...           NaN  8/9/1984 12:00:00 AM               NaN   \n",
       "2  ...           NaN  8/9/1984 12:00:00 AM               NaN   \n",
       "3  ...           NaN  8/9/1984 12:00:00 AM               NaN   \n",
       "4  ...           NaN  8/9/1984 12:00:00 AM               NaN   \n",
       "\n",
       "  LAW_ENFORCEMENT_AGENCY LAW_ENFORCEMENT_UNIT            ARREST_DATE  \\\n",
       "0    CHICAGO POLICE DEPT                  NaN  8/15/1984 12:00:00 AM   \n",
       "1    CHICAGO POLICE DEPT                  NaN  8/15/1984 12:00:00 AM   \n",
       "2    CHICAGO POLICE DEPT                  NaN  8/15/1984 12:00:00 AM   \n",
       "3    CHICAGO POLICE DEPT                  NaN  8/15/1984 12:00:00 AM   \n",
       "4    CHICAGO POLICE DEPT                  NaN  8/15/1984 12:00:00 AM   \n",
       "\n",
       "       FELONY_REVIEW_DATE FELONY_REVIEW_RESULT       ARRAIGNMENT_DATE  \\\n",
       "0  08/15/1984 12:00:00 AM   Charge(S) Approved  9/21/1984 12:00:00 AM   \n",
       "1  08/15/1984 12:00:00 AM   Charge(S) Approved  9/21/1984 12:00:00 AM   \n",
       "2  08/15/1984 12:00:00 AM   Charge(S) Approved  9/21/1984 12:00:00 AM   \n",
       "3  08/15/1984 12:00:00 AM   Charge(S) Approved  9/21/1984 12:00:00 AM   \n",
       "4  08/15/1984 12:00:00 AM   Charge(S) Approved  9/21/1984 12:00:00 AM   \n",
       "\n",
       "  UPDATED_OFFENSE_CATEGORY  \n",
       "0                 Homicide  \n",
       "1                 Homicide  \n",
       "2                 Homicide  \n",
       "3                 Homicide  \n",
       "4                 Homicide  \n",
       "\n",
       "[5 rows x 41 columns]"
      ]
     },
     "execution_count": 6,
     "metadata": {},
     "output_type": "execute_result"
    },
    {
     "data": {
      "text/plain": [
       "(248146, 41)"
      ]
     },
     "execution_count": 6,
     "metadata": {},
     "output_type": "execute_result"
    },
    {
     "name": "stdout",
     "output_type": "stream",
     "text": [
      "<class 'pandas.core.frame.DataFrame'>\n",
      "RangeIndex: 248146 entries, 0 to 248145\n",
      "Data columns (total 41 columns):\n",
      " #   Column                             Non-Null Count   Dtype  \n",
      "---  ------                             --------------   -----  \n",
      " 0   CASE_ID                            248146 non-null  int64  \n",
      " 1   CASE_PARTICIPANT_ID                248146 non-null  int64  \n",
      " 2   RECEIVED_DATE                      248146 non-null  object \n",
      " 3   OFFENSE_CATEGORY                   248146 non-null  object \n",
      " 4   PRIMARY_CHARGE_FLAG                248146 non-null  bool   \n",
      " 5   CHARGE_ID                          248146 non-null  int64  \n",
      " 6   CHARGE_VERSION_ID                  248146 non-null  int64  \n",
      " 7   DISPOSITION_CHARGED_OFFENSE_TITLE  248146 non-null  object \n",
      " 8   CHARGE_COUNT                       248146 non-null  int64  \n",
      " 9   DISPOSITION_DATE                   248146 non-null  object \n",
      " 10  DISPOSITION_CHARGED_CHAPTER        248146 non-null  object \n",
      " 11  DISPOSITION_CHARGED_ACT            242771 non-null  object \n",
      " 12  DISPOSITION_CHARGED_SECTION        242771 non-null  object \n",
      " 13  DISPOSITION_CHARGED_CLASS          248127 non-null  object \n",
      " 14  DISPOSITION_CHARGED_AOIC           248122 non-null  object \n",
      " 15  CHARGE_DISPOSITION                 248146 non-null  object \n",
      " 16  CHARGE_DISPOSITION_REASON          904 non-null     object \n",
      " 17  SENTENCE_JUDGE                     247404 non-null  object \n",
      " 18  SENTENCE_COURT_NAME                246761 non-null  object \n",
      " 19  SENTENCE_COURT_FACILITY            246216 non-null  object \n",
      " 20  SENTENCE_PHASE                     248146 non-null  object \n",
      " 21  SENTENCE_DATE                      248146 non-null  object \n",
      " 22  SENTENCE_TYPE                      248146 non-null  object \n",
      " 23  CURRENT_SENTENCE_FLAG              248146 non-null  bool   \n",
      " 24  COMMITMENT_TYPE                    246464 non-null  object \n",
      " 25  COMMITMENT_TERM                    246434 non-null  object \n",
      " 26  COMMITMENT_UNIT                    246434 non-null  object \n",
      " 27  LENGTH_OF_CASE_in_Days             229126 non-null  float64\n",
      " 28  AGE_AT_INCIDENT                    238359 non-null  float64\n",
      " 29  RACE                               246879 non-null  object \n",
      " 30  GENDER                             247337 non-null  object \n",
      " 31  INCIDENT_CITY                      228745 non-null  object \n",
      " 32  INCIDENT_BEGIN_DATE                239122 non-null  object \n",
      " 33  INCIDENT_END_DATE                  22008 non-null   object \n",
      " 34  LAW_ENFORCEMENT_AGENCY             239405 non-null  object \n",
      " 35  LAW_ENFORCEMENT_UNIT               76408 non-null   object \n",
      " 36  ARREST_DATE                        242981 non-null  object \n",
      " 37  FELONY_REVIEW_DATE                 171907 non-null  object \n",
      " 38  FELONY_REVIEW_RESULT               171907 non-null  object \n",
      " 39  ARRAIGNMENT_DATE                   229126 non-null  object \n",
      " 40  UPDATED_OFFENSE_CATEGORY           248146 non-null  object \n",
      "dtypes: bool(2), float64(2), int64(5), object(32)\n",
      "memory usage: 74.3+ MB\n"
     ]
    }
   ],
   "source": [
    "df.head()\n",
    "df.shape\n",
    "df.info()"
   ]
  },
  {
   "cell_type": "markdown",
   "metadata": {},
   "source": [
    "# Part one: data cleaning/interpretation"
   ]
  },
  {
   "cell_type": "markdown",
   "metadata": {},
   "source": [
    "## 1.1: Understanding the unit of analysis (5 points)\n",
    "\n",
    "- Print the number of unique values for the following columns. Do so in a way that avoids copying/pasting code for \n",
    "the three:\n",
    "\n",
    "    - Cases (`CASE_ID`)\n",
    "    - People in that case (`CASE_PARTICIPANT_ID`)\n",
    "    - Charges (`CHARGE_ID`)\n",
    "\n",
    "- Write a couple sentences on the following and show an example of each (e.g., a case involving multiple people):\n",
    "    \n",
    "    - Why there are more unique people than unique cases?\n",
    "    - Why there are more unique charges than unique people?\n",
    "\n",
    "- Print the mean and median number of charges per case/participant \n",
    "\n",
    "- Print the mean and median number of participants per case\n",
    "\n",
    "- Does the data seem to enable us to follow the same defendant across different cases they're charged in? Write 1 sentence in support of your conclusion.\n"
   ]
  },
  {
   "cell_type": "code",
   "execution_count": 8,
   "metadata": {},
   "outputs": [
    {
     "data": {
      "text/plain": [
       "CASE_ID                197519\n",
       "CASE_PARTICIPANT_ID    211977\n",
       "CHARGE_ID              229015\n",
       "dtype: int64"
      ]
     },
     "execution_count": 8,
     "metadata": {},
     "output_type": "execute_result"
    }
   ],
   "source": [
    "df[['CASE_ID','CASE_PARTICIPANT_ID','CHARGE_ID']].nunique()"
   ]
  },
  {
   "cell_type": "markdown",
   "metadata": {},
   "source": [
    "1. Why there are more unique people than unique cases?\n",
    "One case can involve more than one person. For example, there can be a case of robbery where multiple people are robbing one person. This would be recorded as the same case but recorded multiple times becuase it involves multiple individuals.\n",
    "2. Why there are more unique charges than unique people?\n",
    "One person can have more than one charge in one case - for exmaple, if they committed both robbery and murder in one case."
   ]
  },
  {
   "cell_type": "code",
   "execution_count": 10,
   "metadata": {},
   "outputs": [
    {
     "data": {
      "text/plain": [
       "1.1261457610967227"
      ]
     },
     "execution_count": 10,
     "metadata": {},
     "output_type": "execute_result"
    },
    {
     "data": {
      "text/plain": [
       "1.0"
      ]
     },
     "execution_count": 10,
     "metadata": {},
     "output_type": "execute_result"
    }
   ],
   "source": [
    "df.groupby(['CASE_ID', 'CASE_PARTICIPANT_ID'])['CHARGE_ID'].nunique().mean()\n",
    "df.groupby(['CASE_ID', 'CASE_PARTICIPANT_ID'])['CHARGE_ID'].nunique().median()"
   ]
  },
  {
   "cell_type": "code",
   "execution_count": 12,
   "metadata": {},
   "outputs": [
    {
     "data": {
      "text/plain": [
       "1.0731980214561636"
      ]
     },
     "execution_count": 12,
     "metadata": {},
     "output_type": "execute_result"
    },
    {
     "data": {
      "text/plain": [
       "1.0"
      ]
     },
     "execution_count": 12,
     "metadata": {},
     "output_type": "execute_result"
    }
   ],
   "source": [
    "df.groupby(['CASE_ID'])['CASE_PARTICIPANT_ID'].nunique().mean()\n",
    "df.groupby(['CASE_ID'])['CASE_PARTICIPANT_ID'].nunique().median()"
   ]
  },
  {
   "cell_type": "code",
   "execution_count": 14,
   "metadata": {},
   "outputs": [
    {
     "data": {
      "text/plain": [
       "CASE_PARTICIPANT_ID\n",
       "96757475659     1\n",
       "97064562856     1\n",
       "97249060542     1\n",
       "97581722610     1\n",
       "97603050731     1\n",
       "               ..\n",
       "905289187184    1\n",
       "905322500577    1\n",
       "905518794790    1\n",
       "905533705601    1\n",
       "905535215556    1\n",
       "Name: CASE_ID, Length: 211977, dtype: int64"
      ]
     },
     "execution_count": 14,
     "metadata": {},
     "output_type": "execute_result"
    }
   ],
   "source": [
    "df.groupby(['CASE_PARTICIPANT_ID'])['CASE_ID'].nunique()"
   ]
  },
  {
   "cell_type": "markdown",
   "metadata": {},
   "source": [
    "No, because the same person does not have the same participant ID across all data - from above, we can see that there is only one case per participant ID, which means either every person only committed one crime, or the ID is only case-dependant not person-dependant. "
   ]
  },
  {
   "cell_type": "markdown",
   "metadata": {},
   "source": [
    "## 1.2.1: Which offense is final? (3 points)\n",
    "\n",
    "- First, read the data documentation [link](https://datacatalog.cookcountyil.gov/api/views/tg8v-tm6u/files/8597cdda-f7e1-44d1-b0ce-0a4e43f8c980?download=true&filename=CCSAO%20Data%20Glossary.pdf) and summarize in your own words the differences between `OFFENSE_CATEGORY` and `UPDATED_OFFENSE_CATEGORY` \n",
    "\n",
    "- Construct an indicator `is_changed_offense` that's True for case-participant-charge observations (rows) where there's a difference between the original charge (offense category) and the most current charge (updated offense category). What are some of the more common changed offenses? (can just print result of sort_values based on original offense category)\n",
    "\n",
    "- Print one example of a changed offense from one of these categories and comment on what the reason may be\n"
   ]
  },
  {
   "cell_type": "markdown",
   "metadata": {},
   "source": [
    "OFFENSE_CATEGORY is the original broad offense category; after primary charge is known, the case evolved, and the final offense category is recorded as UPDATED_OFFENSE_CATEGORY."
   ]
  },
  {
   "cell_type": "code",
   "execution_count": 16,
   "metadata": {},
   "outputs": [
    {
     "name": "stdout",
     "output_type": "stream",
     "text": [
      "OFFENSE_CATEGORY\n",
      "PROMIS Conversion               6394\n",
      "DUI                             3896\n",
      "UUW - Unlawful Use of Weapon    2155\n",
      "Other Offense                   2125\n",
      "Aggravated Battery              1927\n",
      "                                ... \n",
      "Perjury                            4\n",
      "Prostitution                       3\n",
      "Compelling Gang Membership         2\n",
      "Benefit Recipient Fraud            2\n",
      "Violate Bail Bond                  2\n",
      "Name: count, Length: 88, dtype: int64\n"
     ]
    }
   ],
   "source": [
    "df['is_changed_offense'] = (df['OFFENSE_CATEGORY'] != df['UPDATED_OFFENSE_CATEGORY'])\n",
    "print(df[df[\"is_changed_offense\"]][\"OFFENSE_CATEGORY\"].value_counts().sort_values(ascending = False))"
   ]
  },
  {
   "cell_type": "code",
   "execution_count": 18,
   "metadata": {},
   "outputs": [
    {
     "name": "stdout",
     "output_type": "stream",
     "text": [
      "                                 OFFENSE_CATEGORY  \\\n",
      "248125               UUW - Unlawful Use of Weapon   \n",
      "248126                              Other Offense   \n",
      "248139  Driving With Suspended Or Revoked License   \n",
      "248140  Driving With Suspended Or Revoked License   \n",
      "248141                              Home Invasion   \n",
      "\n",
      "            UPDATED_OFFENSE_CATEGORY  \n",
      "248125                     Narcotics  \n",
      "248126                 Fraudulent ID  \n",
      "248139                     Narcotics  \n",
      "248140                     Narcotics  \n",
      "248141  UUW - Unlawful Use of Weapon  \n"
     ]
    }
   ],
   "source": [
    "print(df[df['is_changed_offense']][['OFFENSE_CATEGORY','UPDATED_OFFENSE_CATEGORY']].tail())"
   ]
  },
  {
   "cell_type": "markdown",
   "metadata": {},
   "source": [
    "We can see a few cases where \"UUW - Unlawful Use of Weapon\" and \"Driving With Suspended Or Revoked License\" as original offense category were updated as \"Narcotics\". The reason might be that inappropriate drug usage is the root cause of the use of weapon or illegal driving. Only after a thorough drug test is when people found out the root cause. "
   ]
  },
  {
   "cell_type": "markdown",
   "metadata": {},
   "source": [
    "## 1.2.2: Simplifying the charges (5 points)\n",
    "\n",
    "Using the field (`UPDATED_OFFENSE_CATEGORY`), create a new field, `simplified_offense_derived`, that simplifies the many offense categories into broader buckets using the following process:\n",
    "\n",
    "First, combine all offenses beginning with \"Aggravated\" into a single category without that prefix (e.g., Aggravated Battery and Battery just becomes Battery)\n",
    "\n",
    "Then:\n",
    "- Combine all offenses with arson into a single arson category (`Arson`)\n",
    "- Combine all offenses with homicide into a single homicide category (`Homicide`)\n",
    "- Combine all offenses with vehicle/vehicular in the name into a single vehicle category (`Vehicle-related`)\n",
    "- Combine all offenses with battery in the name into a single battery category (`Battery`)\n",
    "\n",
    "Try to do so efficiently (e.g., using map and a dictionary or np.select rather than separate line for each recoded offense)\n",
    "\n",
    "Print the difference between the # of unique offenses in the original `UPDATED_OFFENSE_CATEGORY` field and the # of unique offenses in your new `simplified_offense_derived` field\n"
   ]
  },
  {
   "cell_type": "code",
   "execution_count": 34,
   "metadata": {},
   "outputs": [
    {
     "name": "stdout",
     "output_type": "stream",
     "text": [
      "79 67\n"
     ]
    }
   ],
   "source": [
    "conditions = [df['UPDATED_OFFENSE_CATEGORY'].str.startswith(\"Aggravated\"),\n",
    "             df['UPDATED_OFFENSE_CATEGORY'].str.contains(\"Arson\"),\n",
    "             df['UPDATED_OFFENSE_CATEGORY'].str.contains(\"Homicide\"),\n",
    "             df['UPDATED_OFFENSE_CATEGORY'].str.contains(\"Vehicle|Vehicular\"),\n",
    "             df['UPDATED_OFFENSE_CATEGORY'].str.contains(\"Battery\")]\n",
    "\n",
    "cats = [df['UPDATED_OFFENSE_CATEGORY'].str.replace(\"Aggravated \", \"\"), \"Arson\", \"Homicide\", \"Vehicle-related\", \"Battery\"]\n",
    "\n",
    "df['simplified_offense_derived'] = np.select(conditions, cats, df['UPDATED_OFFENSE_CATEGORY'])\n",
    "print(df.UPDATED_OFFENSE_CATEGORY.nunique(), df.simplified_offense_derived.nunique())"
   ]
  },
  {
   "cell_type": "markdown",
   "metadata": {},
   "source": [
    "## 1.3: Cleaning additional variables (10 points)\n",
    "\n",
    "Clean the following variables; make sure to retain the original variable in data and use the derived suffix so it's easier to pull these cleaned out variables later (e.g., `age_derived`) to indicate this was a transformation\n",
    "\n",
    "- Race: create True/false indicators for `is_black_derived` (Black only or mixed race with hispanic), Non-Black Hispanic, so either hispanic alone or white hispanic (`is_hisp_derived`), White non-hispanic (`is_white_derived`), or none of the above (`is_othereth_derived`)\n",
    "\n",
    "- Gender: create a boolean true/false indicator for `is_male_derived` (false is female, unknown, or other)\n",
    "\n",
    "- Age at incident: you notice outliers like 130-year olds. Winsorsize the top 0.01% of values to be equal to the 99.99th percentile value pre-winsorization. Call this `age_derived`\n",
    "\n",
    "- Create `sentenceymd_derived` that's a version of `SENTENCING_DATE` converted to datetime format. Also create a rounded version, `sentenceym_derived`, that's rounded down to the first of the month and the year (e.g., 01-05-2016 and 01-27-2016 each become 01-01-2016)\n",
    "    - Hint: all timestamps are midnight so u can strip in conversion. For full credit, before converting, you notice that some of the years have been mistranscribed (e.g., 291X or 221X instead of 201X). Programatically fix those (eg 2914 -> 2014). Even after cleaning, there will still be some that are after the year 2021 that we'll filter out later. For partial credit, you can ignore the timestamps that cause errors and set errors = \"coerce\" within `pd.to_datetime()` to allow the conversion to proceed. \n",
    "\n",
    "- Sentencing judge: create an identifier (`judgeid_derived`) for each unique judge (`SENTENCE_JUDGE`) structured as judge_1, judge_2...., with the order determined by sorting the judges (will sort on fname then last). When finding unique judges, there are various duplicates we could weed out --- for now, just focus on (1) the different iterations of Doug/Douglas Simpson, (2) the different iterations of Shelley Sutker (who appears both with her maiden name and her hyphenated married name). \n",
    "     - Hint: due to mixed types, you may need to cast the `SENTENCE_JUDGE` var to a diff type to sort\n",
    "\n",
    "After finishing, print a random sample of 10 rows (data.sample(n = 10)) with the original and cleaned columns for the relevant variables to validate your work"
   ]
  },
  {
   "cell_type": "code",
   "execution_count": 36,
   "metadata": {},
   "outputs": [
    {
     "data": {
      "text/plain": [
       "array(['Black', 'White [Hispanic or Latino]', 'White', 'HISPANIC', nan,\n",
       "       'ASIAN', 'White/Black [Hispanic or Latino]', 'Asian',\n",
       "       'American Indian', 'Unknown', 'Biracial'], dtype=object)"
      ]
     },
     "execution_count": 36,
     "metadata": {},
     "output_type": "execute_result"
    }
   ],
   "source": [
    "df.RACE.unique()"
   ]
  },
  {
   "cell_type": "code",
   "execution_count": 38,
   "metadata": {},
   "outputs": [],
   "source": [
    "df['is_black_derived'] = df.RACE.str.contains(\"Black\")"
   ]
  },
  {
   "cell_type": "code",
   "execution_count": 40,
   "metadata": {},
   "outputs": [
    {
     "data": {
      "text/html": [
       "<div>\n",
       "<style scoped>\n",
       "    .dataframe tbody tr th:only-of-type {\n",
       "        vertical-align: middle;\n",
       "    }\n",
       "\n",
       "    .dataframe tbody tr th {\n",
       "        vertical-align: top;\n",
       "    }\n",
       "\n",
       "    .dataframe thead th {\n",
       "        text-align: right;\n",
       "    }\n",
       "</style>\n",
       "<table border=\"1\" class=\"dataframe\">\n",
       "  <thead>\n",
       "    <tr style=\"text-align: right;\">\n",
       "      <th></th>\n",
       "      <th>RACE</th>\n",
       "      <th>is_black_derived</th>\n",
       "      <th>is_hisp_derived</th>\n",
       "      <th>is_white_derived</th>\n",
       "      <th>is_othereth_derived</th>\n",
       "    </tr>\n",
       "  </thead>\n",
       "  <tbody>\n",
       "    <tr>\n",
       "      <th>0</th>\n",
       "      <td>Black</td>\n",
       "      <td>True</td>\n",
       "      <td>False</td>\n",
       "      <td>False</td>\n",
       "      <td>False</td>\n",
       "    </tr>\n",
       "    <tr>\n",
       "      <th>1</th>\n",
       "      <td>Black</td>\n",
       "      <td>True</td>\n",
       "      <td>False</td>\n",
       "      <td>False</td>\n",
       "      <td>False</td>\n",
       "    </tr>\n",
       "    <tr>\n",
       "      <th>2</th>\n",
       "      <td>Black</td>\n",
       "      <td>True</td>\n",
       "      <td>False</td>\n",
       "      <td>False</td>\n",
       "      <td>False</td>\n",
       "    </tr>\n",
       "    <tr>\n",
       "      <th>3</th>\n",
       "      <td>Black</td>\n",
       "      <td>True</td>\n",
       "      <td>False</td>\n",
       "      <td>False</td>\n",
       "      <td>False</td>\n",
       "    </tr>\n",
       "    <tr>\n",
       "      <th>4</th>\n",
       "      <td>Black</td>\n",
       "      <td>True</td>\n",
       "      <td>False</td>\n",
       "      <td>False</td>\n",
       "      <td>False</td>\n",
       "    </tr>\n",
       "    <tr>\n",
       "      <th>...</th>\n",
       "      <td>...</td>\n",
       "      <td>...</td>\n",
       "      <td>...</td>\n",
       "      <td>...</td>\n",
       "      <td>...</td>\n",
       "    </tr>\n",
       "    <tr>\n",
       "      <th>248141</th>\n",
       "      <td>NaN</td>\n",
       "      <td>NaN</td>\n",
       "      <td>False</td>\n",
       "      <td>False</td>\n",
       "      <td>True</td>\n",
       "    </tr>\n",
       "    <tr>\n",
       "      <th>248142</th>\n",
       "      <td>Black</td>\n",
       "      <td>True</td>\n",
       "      <td>False</td>\n",
       "      <td>False</td>\n",
       "      <td>False</td>\n",
       "    </tr>\n",
       "    <tr>\n",
       "      <th>248143</th>\n",
       "      <td>White</td>\n",
       "      <td>False</td>\n",
       "      <td>False</td>\n",
       "      <td>True</td>\n",
       "      <td>False</td>\n",
       "    </tr>\n",
       "    <tr>\n",
       "      <th>248144</th>\n",
       "      <td>White</td>\n",
       "      <td>False</td>\n",
       "      <td>False</td>\n",
       "      <td>True</td>\n",
       "      <td>False</td>\n",
       "    </tr>\n",
       "    <tr>\n",
       "      <th>248145</th>\n",
       "      <td>White</td>\n",
       "      <td>False</td>\n",
       "      <td>False</td>\n",
       "      <td>True</td>\n",
       "      <td>False</td>\n",
       "    </tr>\n",
       "  </tbody>\n",
       "</table>\n",
       "<p>248146 rows × 5 columns</p>\n",
       "</div>"
      ],
      "text/plain": [
       "         RACE is_black_derived  is_hisp_derived  is_white_derived  \\\n",
       "0       Black             True            False             False   \n",
       "1       Black             True            False             False   \n",
       "2       Black             True            False             False   \n",
       "3       Black             True            False             False   \n",
       "4       Black             True            False             False   \n",
       "...       ...              ...              ...               ...   \n",
       "248141    NaN              NaN            False             False   \n",
       "248142  Black             True            False             False   \n",
       "248143  White            False            False              True   \n",
       "248144  White            False            False              True   \n",
       "248145  White            False            False              True   \n",
       "\n",
       "        is_othereth_derived  \n",
       "0                     False  \n",
       "1                     False  \n",
       "2                     False  \n",
       "3                     False  \n",
       "4                     False  \n",
       "...                     ...  \n",
       "248141                 True  \n",
       "248142                False  \n",
       "248143                False  \n",
       "248144                False  \n",
       "248145                False  \n",
       "\n",
       "[248146 rows x 5 columns]"
      ]
     },
     "execution_count": 40,
     "metadata": {},
     "output_type": "execute_result"
    }
   ],
   "source": [
    "df['is_black_derived'] = df.RACE.str.contains(\"Black\", case = False)\n",
    "df['is_hisp_derived'] = (~df.RACE.str.contains('Black', na = False)) & df.RACE.str.contains('hispanic', case = False)\n",
    "df['is_white_derived'] = (df.RACE == \"White\")\n",
    "\n",
    "df['is_othereth_derived'] = ~(df['is_black_derived'] | df['is_hisp_derived'] | df['is_white_derived'])\n",
    "df[['RACE','is_black_derived','is_hisp_derived','is_white_derived','is_othereth_derived']]"
   ]
  },
  {
   "cell_type": "code",
   "execution_count": 42,
   "metadata": {},
   "outputs": [],
   "source": [
    "df['is_male_derived'] = df.GENDER.str.contains(\"male\", case = False)"
   ]
  },
  {
   "cell_type": "code",
   "execution_count": 50,
   "metadata": {},
   "outputs": [
    {
     "data": {
      "text/plain": [
       "81.0"
      ]
     },
     "execution_count": 50,
     "metadata": {},
     "output_type": "execute_result"
    }
   ],
   "source": [
    "df.AGE_AT_INCIDENT.quantile(0.9999) # Checking 99.99th percentile value"
   ]
  },
  {
   "cell_type": "code",
   "execution_count": 46,
   "metadata": {},
   "outputs": [],
   "source": [
    "df['age_derived'] = np.where(\n",
    "    df.AGE_AT_INCIDENT > df.AGE_AT_INCIDENT.quantile(0.9999), \n",
    "    df.AGE_AT_INCIDENT.quantile(0.9999), \n",
    "    df.AGE_AT_INCIDENT)"
   ]
  },
  {
   "cell_type": "code",
   "execution_count": 523,
   "metadata": {},
   "outputs": [
    {
     "data": {
      "text/plain": [
       "0           6/2/1986 12:00:00 AM\n",
       "1           6/2/1986 12:00:00 AM\n",
       "2           6/2/1986 12:00:00 AM\n",
       "3           6/2/1986 12:00:00 AM\n",
       "4         10/16/2014 12:00:00 AM\n",
       "                   ...          \n",
       "248141     3/19/2021 12:00:00 AM\n",
       "248142     3/23/2021 12:00:00 AM\n",
       "248143     3/11/2021 12:00:00 AM\n",
       "248144     3/11/2021 12:00:00 AM\n",
       "248145     3/11/2021 12:00:00 AM\n",
       "Name: SENTENCE_DATE, Length: 248146, dtype: object"
      ]
     },
     "execution_count": 523,
     "metadata": {},
     "output_type": "execute_result"
    }
   ],
   "source": [
    "df.SENTENCE_DATE.str.replace(r\"291[4-7]\", lambda x: \"20\"+x.group(0)[2:], regex=True)"
   ]
  },
  {
   "cell_type": "code",
   "execution_count": 52,
   "metadata": {},
   "outputs": [],
   "source": [
    "df['clean_dates'] = df.SENTENCE_DATE.str.replace(r\"2[1-9][0-9][0-9]\", lambda x: \"20\"+x.group(0)[2:], regex=True)\n",
    "df['clean_dates'] = df.clean_dates.str.replace(r\"20[3-9][0-9]\", lambda x: \"201\"+x.group(0)[3:], regex=True)\n",
    "df['clean_dates'] = df.clean_dates.str.replace(r\"202[2-9]\", lambda x: \"2021\", regex=True)"
   ]
  },
  {
   "cell_type": "code",
   "execution_count": 54,
   "metadata": {},
   "outputs": [
    {
     "data": {
      "text/plain": [
       "0         1986-06-02\n",
       "1         1986-06-02\n",
       "2         1986-06-02\n",
       "3         1986-06-02\n",
       "4         2014-10-16\n",
       "             ...    \n",
       "248141    2021-03-19\n",
       "248142    2021-03-23\n",
       "248143    2021-03-11\n",
       "248144    2021-03-11\n",
       "248145    2021-03-11\n",
       "Name: sentenceymd_derived, Length: 248146, dtype: object"
      ]
     },
     "execution_count": 54,
     "metadata": {},
     "output_type": "execute_result"
    },
    {
     "data": {
      "text/plain": [
       "datetime.date"
      ]
     },
     "execution_count": 54,
     "metadata": {},
     "output_type": "execute_result"
    }
   ],
   "source": [
    "df['sentenceymd_derived'] = pd.to_datetime(\n",
    "    df.clean_dates, \n",
    "    format='mixed')\n",
    "df['sentenceymd_derived'] = df['sentenceymd_derived'].dt.date\n",
    "df['sentenceymd_derived']\n",
    "type(df['sentenceymd_derived'][0])"
   ]
  },
  {
   "cell_type": "code",
   "execution_count": 56,
   "metadata": {},
   "outputs": [
    {
     "data": {
      "text/plain": [
       "0        1986-06-01\n",
       "1        1986-06-01\n",
       "2        1986-06-01\n",
       "3        1986-06-01\n",
       "4        2014-10-01\n",
       "            ...    \n",
       "248141   2021-03-01\n",
       "248142   2021-03-01\n",
       "248143   2021-03-01\n",
       "248144   2021-03-01\n",
       "248145   2021-03-01\n",
       "Name: sentenceym_derived, Length: 248146, dtype: datetime64[ns]"
      ]
     },
     "execution_count": 56,
     "metadata": {},
     "output_type": "execute_result"
    }
   ],
   "source": [
    "df['sentenceym_derived'] = pd.to_datetime(df['sentenceymd_derived']).dt.to_period('M').dt.to_timestamp()\n",
    "df['sentenceym_derived']"
   ]
  },
  {
   "cell_type": "code",
   "execution_count": 60,
   "metadata": {},
   "outputs": [],
   "source": [
    "# Judge:\n",
    "df['SENTENCE_JUDGE'] = df['SENTENCE_JUDGE'].astype(str)\n",
    "\n",
    "df['SENTENCE_JUDGE'] = df['SENTENCE_JUDGE'].replace({\n",
    "    'Doug Simpson': 'Douglas Simpson',\n",
    "    'Shelley Sutker': 'Shelley Sutker-Smith' \n",
    "})\n",
    "\n",
    "unique_judges = pd.Series(df['SENTENCE_JUDGE'].unique())\n",
    "judge_dict = {judge: 'judge_' + str(i + 1) for i, judge in enumerate(sorted(unique_judges))}\n",
    "df['judgeid_derived'] = df['SENTENCE_JUDGE'].map(judge_dict)"
   ]
  },
  {
   "cell_type": "markdown",
   "metadata": {},
   "source": [
    "## 1.4: Subsetting rows to analytic dataset (5 points)\n",
    "\n",
    "You decide based on the above to simplify things in the following ways:\n",
    "    \n",
    "- Subset to cases where only one participant is charged, since cases with >1 participant might have complications like \n",
    "plea bargains/informing from other participants affecting the sentencing of the focal participant\n",
    "\n",
    "- To go from a participant-case level dataset, where each participant is repeated across charges tied to the case, to a participant-level dataset, where each participant has one charge, subset to a participant's primary charge and their current sentence (`PRIMARY_CHARGE_FLAG` is True and `CURRENT_SENTENCE_FLAG` is True). Double check that this worked by confirming there are no longer multiple charges for the same case-participant\n",
    "\n",
    "- Filter out observations where judge is nan or nonsensical (indicated by is.null or equal to FLOOD)\n",
    "\n",
    "- Subset to sentencing date between 01-01-2012 and 04-05-2021 (inclusive)\n",
    "\n",
    "After completing these steps, print the number of rows in the data"
   ]
  },
  {
   "cell_type": "code",
   "execution_count": 62,
   "metadata": {},
   "outputs": [
    {
     "data": {
      "text/plain": [
       "((248146, 53), (165745, 53))"
      ]
     },
     "execution_count": 62,
     "metadata": {},
     "output_type": "execute_result"
    }
   ],
   "source": [
    "participant_count = df.groupby('CASE_ID')['CASE_PARTICIPANT_ID'].count()\n",
    "single_participant_cases = participant_count[participant_count == 1].index\n",
    "\n",
    "# Subset df to only those cases\n",
    "subset_df = df[df['CASE_ID'].isin(single_participant_cases)]\n",
    "df.shape, subset_df.shape"
   ]
  },
  {
   "cell_type": "code",
   "execution_count": 64,
   "metadata": {},
   "outputs": [
    {
     "data": {
      "text/plain": [
       "(137507, 53)"
      ]
     },
     "execution_count": 64,
     "metadata": {},
     "output_type": "execute_result"
    },
    {
     "data": {
      "text/plain": [
       "CASE_ID       CASE_PARTICIPANT_ID\n",
       "154954734978  225758446387           1\n",
       "416654165844  812728160936           1\n",
       "416653872134  812727028469           1\n",
       "416653431570  812723725442           1\n",
       "416653284716  812723159209           1\n",
       "                                    ..\n",
       "397526344836  753234782335           1\n",
       "397525904272  753234027357           1\n",
       "397525757417  753233744240           1\n",
       "397529722494  753243370207           1\n",
       "445593200623  905535215556           1\n",
       "Name: CHARGE_ID, Length: 137507, dtype: int64"
      ]
     },
     "execution_count": 64,
     "metadata": {},
     "output_type": "execute_result"
    }
   ],
   "source": [
    "subset_df_1 = subset_df[subset_df.PRIMARY_CHARGE_FLAG & subset_df.CURRENT_SENTENCE_FLAG].copy()\n",
    "subset_df_1.shape\n",
    "subset_df_1.groupby(['CASE_ID', 'CASE_PARTICIPANT_ID'])['CHARGE_ID'].count().sort_values(ascending = True) # only contains 1s"
   ]
  },
  {
   "cell_type": "code",
   "execution_count": 104,
   "metadata": {},
   "outputs": [],
   "source": [
    "subset_df_2 = subset_df_1[~subset_df_1.SENTENCE_JUDGE.isin(['FLOOD','nan'])].copy()"
   ]
  },
  {
   "cell_type": "code",
   "execution_count": 106,
   "metadata": {},
   "outputs": [
    {
     "name": "stderr",
     "output_type": "stream",
     "text": [
      "/var/folders/lq/nvsx7rwj0nz3xmwslrrk6j800000gn/T/ipykernel_1976/1231869991.py:1: UserWarning: Could not infer format, so each element will be parsed individually, falling back to `dateutil`. To ensure parsing is consistent and as-expected, please specify a format.\n",
      "  subset_df_2.SENTENCE_DATE_CLEAN = pd.to_datetime(subset_df_2.SENTENCE_DATE, errors = 'coerce' )\n",
      "/var/folders/lq/nvsx7rwj0nz3xmwslrrk6j800000gn/T/ipykernel_1976/1231869991.py:1: UserWarning: Pandas doesn't allow columns to be created via a new attribute name - see https://pandas.pydata.org/pandas-docs/stable/indexing.html#attribute-access\n",
      "  subset_df_2.SENTENCE_DATE_CLEAN = pd.to_datetime(subset_df_2.SENTENCE_DATE, errors = 'coerce' )\n"
     ]
    },
    {
     "data": {
      "text/plain": [
       "121342"
      ]
     },
     "execution_count": 106,
     "metadata": {},
     "output_type": "execute_result"
    }
   ],
   "source": [
    "subset_df_2.SENTENCE_DATE_CLEAN = pd.to_datetime(subset_df_2.SENTENCE_DATE, errors = 'coerce' )\n",
    "\n",
    "subset_df_3 = subset_df_2[(subset_df_2.SENTENCE_DATE_CLEAN <= '2021-04-05') & (subset_df_2.SENTENCE_DATE_CLEAN >= '2012-01-01')].copy()\n",
    "subset_df_3.shape[0]"
   ]
  },
  {
   "cell_type": "markdown",
   "metadata": {},
   "source": [
    "# Part two: investigating Black vs. White sentencing disparities\n",
    "\n",
    "Now that the data are cleaned, we're going to investigate different types of disparities in sentencing between Black defendants and White defendants. We're focusing on these groups for the purpose of the problem set, but the analysis could be extended to study Hispanic defendants or, in a different jurisdiction, Asian and other minoritized groups.\n",
    "\n",
    "**Details if interested in digging deeper**: If interested (optional), you can read more technical coverage of how we might (1) measure disparities, and (2) what factors you want to adjust for when deciding whether two defendants are 'similarly situated' but for their race in the following sources:\n",
    "\n",
    "- [Review of sentencing disparities research](https://www.journals.uchicago.edu/doi/full/10.1086/701505)\n",
    "- [Discussion of causal model/blinding race at charging stage of the prosecutorial process](https://5harad.com/papers/blind-charging.pdf)\n",
    "- [Discussion of measuring discrimination in policing that can generalize to the sentencing case](https://www.annualreviews.org/doi/abs/10.1146/annurev-criminol-011518-024731)\n",
    "- [General discussion of causal challenges in measuring between-group disparities](https://osf.io/preprints/socarxiv/gx4y3/)\n",
    "\n",
    "**One major caveat**: when investigating whether two similar defendants received different sentences, we're missing one important attribute that influences sentencing: the defendant's criminal history. This influences sentencing both through sentencing guidelines, which can prescribe longer sentences for those who have certain types of prior convictions, and through judicial discretion if judges are more lenient with first-time defendants. The above sources discuss how much we want to \"control away\" for this prior history, since if we think there are racial biases in which defendants, conditional on *committing* a crime, are arrested and charged, we may not want to adjust for that factor. More discussion [in this article](https://www.themarshallproject.org/2019/12/03/the-growing-racial-disparity-in-prison-time)\n"
   ]
  },
  {
   "cell_type": "markdown",
   "metadata": {},
   "source": [
    "## 2.0: (0 points)"
   ]
  },
  {
   "cell_type": "markdown",
   "metadata": {},
   "source": [
    "First, read in the following dataset (regardless of progress on part one): `sentencing_cleaned.pkl` (if you can't read in the pkl you can read in the .csv format but may need to recast some of the datetime columns)\n",
    "\n",
    "*Note*: don't worry if there are slight differences in your output from Part One and this dataset/it's not a good use of time to try to reverse engineer Part One answers from this cleaned data."
   ]
  },
  {
   "cell_type": "code",
   "execution_count": 108,
   "metadata": {},
   "outputs": [
    {
     "data": {
      "text/html": [
       "<div>\n",
       "<style scoped>\n",
       "    .dataframe tbody tr th:only-of-type {\n",
       "        vertical-align: middle;\n",
       "    }\n",
       "\n",
       "    .dataframe tbody tr th {\n",
       "        vertical-align: top;\n",
       "    }\n",
       "\n",
       "    .dataframe thead th {\n",
       "        text-align: right;\n",
       "    }\n",
       "</style>\n",
       "<table border=\"1\" class=\"dataframe\">\n",
       "  <thead>\n",
       "    <tr style=\"text-align: right;\">\n",
       "      <th></th>\n",
       "      <th>CASE_ID</th>\n",
       "      <th>CASE_PARTICIPANT_ID</th>\n",
       "      <th>RECEIVED_DATE</th>\n",
       "      <th>OFFENSE_CATEGORY</th>\n",
       "      <th>PRIMARY_CHARGE_FLAG</th>\n",
       "      <th>CHARGE_ID</th>\n",
       "      <th>CHARGE_VERSION_ID</th>\n",
       "      <th>DISPOSITION_CHARGED_OFFENSE_TITLE</th>\n",
       "      <th>CHARGE_COUNT</th>\n",
       "      <th>DISPOSITION_DATE</th>\n",
       "      <th>...</th>\n",
       "      <th>simplified_offense_derived</th>\n",
       "      <th>is_black_derived</th>\n",
       "      <th>is_hisp_derived</th>\n",
       "      <th>is_white_derived</th>\n",
       "      <th>is_other_derived</th>\n",
       "      <th>is_male_derived</th>\n",
       "      <th>age_derived</th>\n",
       "      <th>sentenceymd_derived</th>\n",
       "      <th>sentenceym_derived</th>\n",
       "      <th>judgeid_derived</th>\n",
       "    </tr>\n",
       "  </thead>\n",
       "  <tbody>\n",
       "    <tr>\n",
       "      <th>9</th>\n",
       "      <td>149765331439</td>\n",
       "      <td>175691153649</td>\n",
       "      <td>8/15/1984 12:00:00 AM</td>\n",
       "      <td>PROMIS Conversion</td>\n",
       "      <td>True</td>\n",
       "      <td>50510062193</td>\n",
       "      <td>112898098217</td>\n",
       "      <td>FIRST DEGREE MURDER</td>\n",
       "      <td>1</td>\n",
       "      <td>12/17/2014 12:00:00 AM</td>\n",
       "      <td>...</td>\n",
       "      <td>Homicide</td>\n",
       "      <td>True</td>\n",
       "      <td>False</td>\n",
       "      <td>False</td>\n",
       "      <td>False</td>\n",
       "      <td>True</td>\n",
       "      <td>27.0</td>\n",
       "      <td>2014-10-16</td>\n",
       "      <td>2014-10-01</td>\n",
       "      <td>judge_40</td>\n",
       "    </tr>\n",
       "    <tr>\n",
       "      <th>16</th>\n",
       "      <td>150065796098</td>\n",
       "      <td>162105612284</td>\n",
       "      <td>8/23/1984 12:00:00 AM</td>\n",
       "      <td>PROMIS Conversion</td>\n",
       "      <td>True</td>\n",
       "      <td>50792360681</td>\n",
       "      <td>113332130159</td>\n",
       "      <td>FIRST DEGREE MURDER</td>\n",
       "      <td>1</td>\n",
       "      <td>8/6/2014 12:00:00 AM</td>\n",
       "      <td>...</td>\n",
       "      <td>Homicide</td>\n",
       "      <td>True</td>\n",
       "      <td>False</td>\n",
       "      <td>False</td>\n",
       "      <td>False</td>\n",
       "      <td>True</td>\n",
       "      <td>30.0</td>\n",
       "      <td>2014-08-06</td>\n",
       "      <td>2014-08-01</td>\n",
       "      <td>judge_310</td>\n",
       "    </tr>\n",
       "    <tr>\n",
       "      <th>18</th>\n",
       "      <td>154954734978</td>\n",
       "      <td>225758446387</td>\n",
       "      <td>6/8/2001 12:00:00 AM</td>\n",
       "      <td>PROMIS Conversion</td>\n",
       "      <td>True</td>\n",
       "      <td>54885211141</td>\n",
       "      <td>174293345821</td>\n",
       "      <td>VIO BAIL BOND/CLASS 1</td>\n",
       "      <td>1</td>\n",
       "      <td>12/2/2013 12:00:00 AM</td>\n",
       "      <td>...</td>\n",
       "      <td>PROMIS Conversion</td>\n",
       "      <td>False</td>\n",
       "      <td>True</td>\n",
       "      <td>False</td>\n",
       "      <td>False</td>\n",
       "      <td>True</td>\n",
       "      <td>38.0</td>\n",
       "      <td>2013-12-02</td>\n",
       "      <td>2013-12-01</td>\n",
       "      <td>judge_162</td>\n",
       "    </tr>\n",
       "    <tr>\n",
       "      <th>19</th>\n",
       "      <td>155222744754</td>\n",
       "      <td>217349881776</td>\n",
       "      <td>1/31/2001 12:00:00 AM</td>\n",
       "      <td>PROMIS Conversion</td>\n",
       "      <td>True</td>\n",
       "      <td>53899906462</td>\n",
       "      <td>280120721775</td>\n",
       "      <td>POSS AMT CON SUB EXCEPT (A)/(D)</td>\n",
       "      <td>1</td>\n",
       "      <td>9/10/2012 12:00:00 AM</td>\n",
       "      <td>...</td>\n",
       "      <td>Narcotics</td>\n",
       "      <td>True</td>\n",
       "      <td>False</td>\n",
       "      <td>False</td>\n",
       "      <td>False</td>\n",
       "      <td>False</td>\n",
       "      <td>33.0</td>\n",
       "      <td>2012-09-10</td>\n",
       "      <td>2012-09-01</td>\n",
       "      <td>judge_331</td>\n",
       "    </tr>\n",
       "    <tr>\n",
       "      <th>26</th>\n",
       "      <td>155327892699</td>\n",
       "      <td>217212381455</td>\n",
       "      <td>2/6/2001 12:00:00 AM</td>\n",
       "      <td>PROMIS Conversion</td>\n",
       "      <td>True</td>\n",
       "      <td>53938518259</td>\n",
       "      <td>164877860811</td>\n",
       "      <td>DUI LIC SUSPENDED OR REVOKED (EFFECTIVE 4-13-2...</td>\n",
       "      <td>1</td>\n",
       "      <td>9/19/2014 12:00:00 AM</td>\n",
       "      <td>...</td>\n",
       "      <td>PROMIS Conversion</td>\n",
       "      <td>False</td>\n",
       "      <td>False</td>\n",
       "      <td>True</td>\n",
       "      <td>False</td>\n",
       "      <td>True</td>\n",
       "      <td>49.0</td>\n",
       "      <td>2014-09-19</td>\n",
       "      <td>2014-09-01</td>\n",
       "      <td>judge_314</td>\n",
       "    </tr>\n",
       "  </tbody>\n",
       "</table>\n",
       "<p>5 rows × 52 columns</p>\n",
       "</div>"
      ],
      "text/plain": [
       "         CASE_ID  CASE_PARTICIPANT_ID          RECEIVED_DATE  \\\n",
       "9   149765331439         175691153649  8/15/1984 12:00:00 AM   \n",
       "16  150065796098         162105612284  8/23/1984 12:00:00 AM   \n",
       "18  154954734978         225758446387   6/8/2001 12:00:00 AM   \n",
       "19  155222744754         217349881776  1/31/2001 12:00:00 AM   \n",
       "26  155327892699         217212381455   2/6/2001 12:00:00 AM   \n",
       "\n",
       "     OFFENSE_CATEGORY  PRIMARY_CHARGE_FLAG    CHARGE_ID  CHARGE_VERSION_ID  \\\n",
       "9   PROMIS Conversion                 True  50510062193       112898098217   \n",
       "16  PROMIS Conversion                 True  50792360681       113332130159   \n",
       "18  PROMIS Conversion                 True  54885211141       174293345821   \n",
       "19  PROMIS Conversion                 True  53899906462       280120721775   \n",
       "26  PROMIS Conversion                 True  53938518259       164877860811   \n",
       "\n",
       "                    DISPOSITION_CHARGED_OFFENSE_TITLE  CHARGE_COUNT  \\\n",
       "9                                 FIRST DEGREE MURDER             1   \n",
       "16                                FIRST DEGREE MURDER             1   \n",
       "18                              VIO BAIL BOND/CLASS 1             1   \n",
       "19                    POSS AMT CON SUB EXCEPT (A)/(D)             1   \n",
       "26  DUI LIC SUSPENDED OR REVOKED (EFFECTIVE 4-13-2...             1   \n",
       "\n",
       "          DISPOSITION_DATE  ... simplified_offense_derived is_black_derived  \\\n",
       "9   12/17/2014 12:00:00 AM  ...                   Homicide             True   \n",
       "16    8/6/2014 12:00:00 AM  ...                   Homicide             True   \n",
       "18   12/2/2013 12:00:00 AM  ...          PROMIS Conversion            False   \n",
       "19   9/10/2012 12:00:00 AM  ...                  Narcotics             True   \n",
       "26   9/19/2014 12:00:00 AM  ...          PROMIS Conversion            False   \n",
       "\n",
       "   is_hisp_derived is_white_derived is_other_derived is_male_derived  \\\n",
       "9            False            False            False            True   \n",
       "16           False            False            False            True   \n",
       "18            True            False            False            True   \n",
       "19           False            False            False           False   \n",
       "26           False             True            False            True   \n",
       "\n",
       "   age_derived sentenceymd_derived sentenceym_derived judgeid_derived  \n",
       "9         27.0          2014-10-16         2014-10-01        judge_40  \n",
       "16        30.0          2014-08-06         2014-08-01       judge_310  \n",
       "18        38.0          2013-12-02         2013-12-01       judge_162  \n",
       "19        33.0          2012-09-10         2012-09-01       judge_331  \n",
       "26        49.0          2014-09-19         2014-09-01       judge_314  \n",
       "\n",
       "[5 rows x 52 columns]"
      ]
     },
     "execution_count": 108,
     "metadata": {},
     "output_type": "execute_result"
    },
    {
     "name": "stdout",
     "output_type": "stream",
     "text": [
      "<class 'pandas.core.frame.DataFrame'>\n",
      "Index: 135165 entries, 9 to 248145\n",
      "Data columns (total 52 columns):\n",
      " #   Column                             Non-Null Count   Dtype         \n",
      "---  ------                             --------------   -----         \n",
      " 0   CASE_ID                            135165 non-null  int64         \n",
      " 1   CASE_PARTICIPANT_ID                135165 non-null  int64         \n",
      " 2   RECEIVED_DATE                      135165 non-null  object        \n",
      " 3   OFFENSE_CATEGORY                   135165 non-null  object        \n",
      " 4   PRIMARY_CHARGE_FLAG                135165 non-null  bool          \n",
      " 5   CHARGE_ID                          135165 non-null  int64         \n",
      " 6   CHARGE_VERSION_ID                  135165 non-null  int64         \n",
      " 7   DISPOSITION_CHARGED_OFFENSE_TITLE  135165 non-null  object        \n",
      " 8   CHARGE_COUNT                       135165 non-null  int64         \n",
      " 9   DISPOSITION_DATE                   135165 non-null  object        \n",
      " 10  DISPOSITION_CHARGED_CHAPTER        135165 non-null  object        \n",
      " 11  DISPOSITION_CHARGED_ACT            134268 non-null  object        \n",
      " 12  DISPOSITION_CHARGED_SECTION        134268 non-null  object        \n",
      " 13  DISPOSITION_CHARGED_CLASS          135160 non-null  object        \n",
      " 14  DISPOSITION_CHARGED_AOIC           135160 non-null  object        \n",
      " 15  CHARGE_DISPOSITION                 135165 non-null  object        \n",
      " 16  CHARGE_DISPOSITION_REASON          478 non-null     object        \n",
      " 17  SENTENCE_JUDGE                     135165 non-null  object        \n",
      " 18  SENTENCE_COURT_NAME                134955 non-null  object        \n",
      " 19  SENTENCE_COURT_FACILITY            134647 non-null  object        \n",
      " 20  SENTENCE_PHASE                     135165 non-null  object        \n",
      " 21  SENTENCE_DATE                      135165 non-null  object        \n",
      " 22  SENTENCE_TYPE                      135165 non-null  object        \n",
      " 23  CURRENT_SENTENCE_FLAG              135165 non-null  bool          \n",
      " 24  COMMITMENT_TYPE                    134172 non-null  object        \n",
      " 25  COMMITMENT_TERM                    134172 non-null  object        \n",
      " 26  COMMITMENT_UNIT                    134172 non-null  object        \n",
      " 27  LENGTH_OF_CASE_in_Days             127360 non-null  float64       \n",
      " 28  AGE_AT_INCIDENT                    129743 non-null  float64       \n",
      " 29  RACE                               134407 non-null  object        \n",
      " 30  GENDER                             134705 non-null  object        \n",
      " 31  INCIDENT_CITY                      128330 non-null  object        \n",
      " 32  INCIDENT_BEGIN_DATE                129923 non-null  object        \n",
      " 33  INCIDENT_END_DATE                  11541 non-null   object        \n",
      " 34  LAW_ENFORCEMENT_AGENCY             130079 non-null  object        \n",
      " 35  LAW_ENFORCEMENT_UNIT               41976 non-null   object        \n",
      " 36  ARREST_DATE                        132438 non-null  object        \n",
      " 37  FELONY_REVIEW_DATE                 92677 non-null   object        \n",
      " 38  FELONY_REVIEW_RESULT               92677 non-null   object        \n",
      " 39  ARRAIGNMENT_DATE                   127360 non-null  object        \n",
      " 40  UPDATED_OFFENSE_CATEGORY           135165 non-null  object        \n",
      " 41  is_changed_offense                 135165 non-null  bool          \n",
      " 42  simplified_offense_derived         135165 non-null  object        \n",
      " 43  is_black_derived                   135165 non-null  bool          \n",
      " 44  is_hisp_derived                    135165 non-null  bool          \n",
      " 45  is_white_derived                   135165 non-null  bool          \n",
      " 46  is_other_derived                   135165 non-null  bool          \n",
      " 47  is_male_derived                    135165 non-null  bool          \n",
      " 48  age_derived                        129743 non-null  float64       \n",
      " 49  sentenceymd_derived                135165 non-null  datetime64[ns]\n",
      " 50  sentenceym_derived                 135165 non-null  datetime64[ns]\n",
      " 51  judgeid_derived                    135165 non-null  object        \n",
      "dtypes: bool(8), datetime64[ns](2), float64(3), int64(5), object(34)\n",
      "memory usage: 47.4+ MB\n"
     ]
    }
   ],
   "source": [
    "ds = pd.read_pickle('/Users/andreagao/Downloads/pset1_inputdata/sentencing_cleaned.pkl')\n",
    "ds.head()\n",
    "ds.info()"
   ]
  },
  {
   "cell_type": "markdown",
   "metadata": {},
   "source": [
    "## 2.1: Investigating one type of between-group difference: who reaches the sentencing stage? (5 points)\n",
    "\n",
    "Tabulate and visualize the proportion of defendants, out of all defendants sentenced in a given month/year, who are Black and who are White (separate proportions)\n",
    "\n",
    "- Denominator is number of unique cases that month\n",
    "- Numerator for black defendants is count of is_black_derived\n",
    "- Numerator for white defendants is count of is_white_derived\n",
    "- Fraction of each is numerator/denominator\n",
    "\n",
    "- Print the table\n",
    "- Create a graph with two lines--- one for Black defendants as fraction of total; another for White defendants. Make sure it includes a legend summarizing which color is for which group, and clean the legend so that it has informative names (e.g., Black or White rather than prop_black or prop_white)\n",
    "- Use mathematical notation to write out each of the proportions using summation notation in a 1-2 sentence writeup describing trends. What seems to be going on in April and May 2020? \n",
    "\n",
    "**Optional challenge**: improve the viz by shading the background of the visualization for months with fewer than 100 cases \n",
    "\n",
    "**Optional challenge**: improve the viz by adding a vertical line for 12-01-2016, the month that new State's Attorney Foxx took office "
   ]
  },
  {
   "cell_type": "code",
   "execution_count": 116,
   "metadata": {},
   "outputs": [
    {
     "name": "stdout",
     "output_type": "stream",
     "text": [
      "    YearMonth  total_cases  black_defendants  white_defendants  prop_black  \\\n",
      "0     2012-01         1674              1134               242    0.677419   \n",
      "1     2012-02         1450               941               233    0.648966   \n",
      "2     2012-03         1612              1030               255    0.638958   \n",
      "3     2012-04         1436              1000               211    0.696379   \n",
      "4     2012-05         1545              1074               223    0.695146   \n",
      "..        ...          ...               ...               ...         ...   \n",
      "106   2020-11          491               298                76    0.606925   \n",
      "107   2020-12          537               347                85    0.646182   \n",
      "108   2021-01          447               278                50    0.621924   \n",
      "109   2021-02          491               320                66    0.651731   \n",
      "110   2021-03          532               362                79    0.680451   \n",
      "\n",
      "     prop_white  \n",
      "0      0.144564  \n",
      "1      0.160690  \n",
      "2      0.158189  \n",
      "3      0.146936  \n",
      "4      0.144337  \n",
      "..          ...  \n",
      "106    0.154786  \n",
      "107    0.158287  \n",
      "108    0.111857  \n",
      "109    0.134420  \n",
      "110    0.148496  \n",
      "\n",
      "[111 rows x 6 columns]\n"
     ]
    },
    {
     "data": {
      "text/plain": [
       "<Figure size 1400x800 with 0 Axes>"
      ]
     },
     "execution_count": 116,
     "metadata": {},
     "output_type": "execute_result"
    },
    {
     "data": {
      "text/plain": [
       "[<matplotlib.lines.Line2D at 0x156eaa180>]"
      ]
     },
     "execution_count": 116,
     "metadata": {},
     "output_type": "execute_result"
    },
    {
     "data": {
      "text/plain": [
       "[<matplotlib.lines.Line2D at 0x15733bda0>]"
      ]
     },
     "execution_count": 116,
     "metadata": {},
     "output_type": "execute_result"
    },
    {
     "data": {
      "text/plain": [
       "<matplotlib.patches.Polygon at 0x145bd1b50>"
      ]
     },
     "execution_count": 116,
     "metadata": {},
     "output_type": "execute_result"
    },
    {
     "data": {
      "text/plain": [
       "<matplotlib.patches.Polygon at 0x156ea99a0>"
      ]
     },
     "execution_count": 116,
     "metadata": {},
     "output_type": "execute_result"
    },
    {
     "data": {
      "text/plain": [
       "<matplotlib.lines.Line2D at 0x1572b7d10>"
      ]
     },
     "execution_count": 116,
     "metadata": {},
     "output_type": "execute_result"
    },
    {
     "data": {
      "text/plain": [
       "Text(0.5, 1.0, 'Proportion of Defendants by Race Over Time')"
      ]
     },
     "execution_count": 116,
     "metadata": {},
     "output_type": "execute_result"
    },
    {
     "data": {
      "text/plain": [
       "Text(0.5, 0, 'Month-Year')"
      ]
     },
     "execution_count": 116,
     "metadata": {},
     "output_type": "execute_result"
    },
    {
     "data": {
      "text/plain": [
       "Text(0, 0.5, 'Proportion of Total Defendants')"
      ]
     },
     "execution_count": 116,
     "metadata": {},
     "output_type": "execute_result"
    },
    {
     "data": {
      "text/plain": [
       "<matplotlib.legend.Legend at 0x156e8f650>"
      ]
     },
     "execution_count": 116,
     "metadata": {},
     "output_type": "execute_result"
    },
    {
     "data": {
      "image/png": "[encoded data removed]",
      "text/plain": [
       "<Figure size 1400x800 with 1 Axes>"
      ]
     },
     "metadata": {},
     "output_type": "display_data"
    }
   ],
   "source": [
    "ds['YearMonth'] = pd.to_datetime(ds['sentenceymd_derived']).dt.to_period('M')\n",
    "\n",
    "summary = ds.groupby('YearMonth').agg(\n",
    "    total_cases=('CASE_ID', 'nunique'),\n",
    "    black_defendants=('is_black_derived', 'sum'),\n",
    "    white_defendants=('is_white_derived', 'sum')\n",
    ").reset_index()\n",
    "\n",
    "summary['prop_black'] = summary['black_defendants'] / summary['total_cases']\n",
    "summary['prop_white'] = summary['white_defendants'] / summary['total_cases']\n",
    "print(summary)\n",
    "\n",
    "plt.figure(figsize=(14, 8))\n",
    "plt.plot(summary['YearMonth'].dt.to_timestamp(), summary['prop_black'], label='Black Defendants', color='salmon')\n",
    "plt.plot(summary['YearMonth'].dt.to_timestamp(), summary['prop_white'], label='White Defendants', color='cornflowerblue')\n",
    "\n",
    "# Optional\n",
    "for index, row in summary.iterrows():\n",
    "    if row['total_cases'] < 100:\n",
    "        plt.axvspan(row['YearMonth'].start_time, row['YearMonth'].end_time, color='grey', alpha=0.2)\n",
    "\n",
    "# Adding a vertical line for 12-01-2016\n",
    "plt.axvline(pd.to_datetime(\"2016-12-01\"), color='red', linestyle='--', label=\"State's Attorney Foxx Takes Office\")\n",
    "\n",
    "plt.title('Proportion of Defendants by Race Over Time')\n",
    "plt.xlabel('Month-Year')\n",
    "plt.ylabel('Proportion of Total Defendants')\n",
    "plt.legend(title='Defendant Group')\n",
    "plt.show()"
   ]
  },
  {
   "cell_type": "markdown",
   "metadata": {},
   "source": [
    "\\(N\\) = Total number of unique cases for a given month\n",
    "\n",
    "### Proportion of Black Defendants\n",
    "\n",
    "$$\n",
    "P_B = \\frac{B}{N} = \\frac{\\sum_{i=1}^{N} \\text{is\\_black\\_derived}_i}{N}\n",
    "$$\n",
    "\n",
    "### Proportion of White Defendants\n",
    "$$\n",
    "P_W = \\frac{W}{N} = \\frac{\\sum_{i=1}^{N} \\text{is\\_white\\_derived}_i}{N}\n",
    "$$\n",
    "\n",
    "Observations: In April and May 2020, there is a notable increase in the proportion of Black defendants among sentenced individuals. This may be resulted from an increased societal awareness during this time due to the Murder of George Floyd."
   ]
  },
  {
   "cell_type": "markdown",
   "metadata": {},
   "source": [
    "## 2.2: Investigating the first type of disparity: probation versus incaceration (10 points)\n",
    "\n",
    "One type of disparity beyond who arrives at the sentencing stage is whether the defendant receives probation or incaceration.\n",
    "\n",
    "According to the codebook, incarceration is indicated by `COMMITMENT_TYPE` == \"Illinois Department of Corrections\"\n",
    "\n",
    "Recreate the previous plot but where the y axis represents the difference between the following proportions (can be either Black - White or White - Black but make sure to label), adding a smoothed line:\n",
    "\n",
    "- Percent of black defendants who are incarcerated out of all black defendants that month/year \n",
    "- Percent of white defendants who are incarcerated out of all white defendants that month/year \n",
    "\n",
    "In a markdown cell after, write 1-2 sentences on your observations of trends over time. Do gaps seem to be widening or increasing?"
   ]
  },
  {
   "cell_type": "code",
   "execution_count": 133,
   "metadata": {},
   "outputs": [
    {
     "data": {
      "text/plain": [
       "<Figure size 1400x800 with 0 Axes>"
      ]
     },
     "execution_count": 133,
     "metadata": {},
     "output_type": "execute_result"
    },
    {
     "data": {
      "text/plain": [
       "[<matplotlib.lines.Line2D at 0x298237170>]"
      ]
     },
     "execution_count": 133,
     "metadata": {},
     "output_type": "execute_result"
    },
    {
     "data": {
      "text/plain": [
       "<matplotlib.lines.Line2D at 0x298221430>"
      ]
     },
     "execution_count": 133,
     "metadata": {},
     "output_type": "execute_result"
    },
    {
     "data": {
      "text/plain": [
       "Text(0.5, 1.0, 'Difference in Incarceration Proportions between Black and White Defendants Over Time')"
      ]
     },
     "execution_count": 133,
     "metadata": {},
     "output_type": "execute_result"
    },
    {
     "data": {
      "text/plain": [
       "Text(0.5, 0, 'Month-Year')"
      ]
     },
     "execution_count": 133,
     "metadata": {},
     "output_type": "execute_result"
    },
    {
     "data": {
      "text/plain": [
       "Text(0, 0.5, 'Difference in Proportions (Black - White)')"
      ]
     },
     "execution_count": 133,
     "metadata": {},
     "output_type": "execute_result"
    },
    {
     "data": {
      "text/plain": [
       "<matplotlib.legend.Legend at 0x298235a60>"
      ]
     },
     "execution_count": 133,
     "metadata": {},
     "output_type": "execute_result"
    },
    {
     "data": {
      "image/png": "[encoded data removed]",
      "text/plain": [
       "<Figure size 1400x800 with 1 Axes>"
      ]
     },
     "metadata": {},
     "output_type": "display_data"
    }
   ],
   "source": [
    "ds['incarcerated'] = ds['COMMITMENT_TYPE'] == \"Illinois Department of Corrections\"\n",
    "\n",
    "summary_incarceration = ds.groupby('YearMonth').agg(\n",
    "    total_black=('is_black_derived', 'sum'),\n",
    "    incarcerated_black=('incarcerated', lambda x: x[ds['is_black_derived'] == 1].sum()), \n",
    "    total_white=('is_white_derived', 'sum'),\n",
    "    incarcerated_white=('incarcerated', lambda x: x[ds['is_white_derived'] == 1].sum()) \n",
    ").reset_index()\n",
    "\n",
    "summary_incarceration['prop_black_incarcerated'] = summary_incarceration['incarcerated_black'] / summary_incarceration['total_black']\n",
    "summary_incarceration['prop_white_incarcerated'] = summary_incarceration['incarcerated_white'] / summary_incarceration['total_white']\n",
    "summary_incarceration['difference'] = summary_incarceration['prop_black_incarcerated'] - summary_incarceration['prop_white_incarcerated']\n",
    "\n",
    "# Smoothed line\n",
    "summary_incarceration['smoothed_difference'] = summary_incarceration['difference'].rolling(window=3).mean()\n",
    "\n",
    "plt.figure(figsize=(14, 8))\n",
    "plt.plot(summary_incarceration['YearMonth'].dt.to_timestamp(), summary_incarceration['smoothed_difference'], \n",
    "         color='maroon', label='Difference (Black - White)')\n",
    "plt.axhline(0, color='red', linestyle='--', label='Zero Difference Line')\n",
    "\n",
    "plt.title('Difference in Incarceration Proportions between Black and White Defendants Over Time')\n",
    "plt.xlabel('Month-Year')\n",
    "plt.ylabel('Difference in Proportions (Black - White)')\n",
    "plt.legend(title='Metric')\n",
    "plt.show()"
   ]
  },
  {
   "cell_type": "markdown",
   "metadata": {},
   "source": [
    "The plot indicates a the difference in incarceration rates between Black and White defendants over time. The data shows that the difference is slightly decreasing from 2015 to 2020 right before the big movements. The gap between the two decreased drastically during the months around George Floyd incident in April and May 2020, but it increased to a relative high right after. One potential factor of this change could be the outburst of the COVID-19 pandemic."
   ]
  },
  {
   "cell_type": "markdown",
   "metadata": {},
   "source": [
    "## 2.3: Investigating mechanisms: incaceration rates by charge\n",
    "\n",
    "Your colleague sees the previous graph and is worried that the gap could be different---either wider or smaller---if you adjust for the fact that prosecutors have discretion in what crimes to charge defendants with. If white defendants are charged with crimes that tend to receive probation rather than incarceration, that could explain some of the gaps.\n",
    "\n",
    "In the next questions, you'll begin to investigate this."
   ]
  },
  {
   "cell_type": "markdown",
   "metadata": {},
   "source": [
    "### 2.3.1: Find the most common offenses (3 points)\n",
    "\n",
    "First, create a set of 'frequent offenses' that represent (over the entire period) the union of the 10 offenses Black defendant are most likely to be charged with and the 10 offenses white defendants are most likely to be charged with (might be far less than 20 total if there's a lot of overlap in common charges)\n",
    "\n",
    "Use the `simplified_offense_derived` for this"
   ]
  },
  {
   "cell_type": "code",
   "execution_count": 137,
   "metadata": {},
   "outputs": [
    {
     "name": "stdout",
     "output_type": "stream",
     "text": [
      "Frequent Offenses:\n",
      "{'Vehicle-related', 'Retail Theft', 'Residential Burglary', 'Battery', 'Other Offense', 'Driving With Suspended Or Revoked License', 'UUW - Unlawful Use of Weapon', 'Narcotics', 'Theft', 'Burglary', 'DUI', 'Robbery'}\n"
     ]
    }
   ],
   "source": [
    "black_defendants = ds[ds['is_black_derived'] == 1]\n",
    "white_defendants = ds[ds['is_white_derived'] == 1]\n",
    "\n",
    "# Count offenses for Black defendants\n",
    "black_offense_counts = black_defendants['simplified_offense_derived'].value_counts().head(10)\n",
    "\n",
    "# Count offenses for White defendants\n",
    "white_offense_counts = white_defendants['simplified_offense_derived'].value_counts().head(10)\n",
    "\n",
    "top_black_offenses = set(black_offense_counts.index)\n",
    "top_white_offenses = set(white_offense_counts.index)\n",
    "\n",
    "frequent_offenses = top_black_offenses.union(top_white_offenses)\n",
    "print(\"Frequent Offenses:\")\n",
    "print(frequent_offenses)"
   ]
  },
  {
   "cell_type": "markdown",
   "metadata": {},
   "source": [
    "### 2.3.2: Look at incarceration rates (again just whether incarcerated) by race and offense type for these top offenses (3 points)\n",
    "\n",
    "Print a wide-format version of the resulting table (so each row is an offense type, one col is black incarceration rate for that offense type; another is the white incarceration rate) and interpret. Which offenses show the largest disparities in judges being less likely to sentence White defendants to incarceration/more likely to offer those defendants probation?\n"
   ]
  },
  {
   "cell_type": "code",
   "execution_count": 141,
   "metadata": {},
   "outputs": [
    {
     "name": "stdout",
     "output_type": "stream",
     "text": [
      "                                      Offense  Black_Incarceration_Rate  \\\n",
      "0                             Vehicle-related                  0.553750   \n",
      "1                                Retail Theft                  0.595713   \n",
      "2                        Residential Burglary                  0.717791   \n",
      "3                                     Battery                  0.509032   \n",
      "4                               Other Offense                  0.340580   \n",
      "5   Driving With Suspended Or Revoked License                  0.582193   \n",
      "6                UUW - Unlawful Use of Weapon                  0.696191   \n",
      "7                                   Narcotics                  0.537876   \n",
      "8                                       Theft                  0.386961   \n",
      "9                                    Burglary                  0.661927   \n",
      "10                                        DUI                  0.404997   \n",
      "11                                    Robbery                  0.650341   \n",
      "\n",
      "    White_Incarceration_Rate  \n",
      "0                   0.585635  \n",
      "1                   0.449582  \n",
      "2                   0.654114  \n",
      "3                   0.275552  \n",
      "4                   0.230228  \n",
      "5                   0.496552  \n",
      "6                   0.481973  \n",
      "7                   0.242535  \n",
      "8                   0.318721  \n",
      "9                   0.535763  \n",
      "10                  0.341855  \n",
      "11                  0.589286  \n"
     ]
    }
   ],
   "source": [
    "def calculate_incarceration_rates(offense):\n",
    "    offense_df = ds[ds['simplified_offense_derived'] == offense]\n",
    "    \n",
    "    # Calculate total counts\n",
    "    total_black = offense_df[offense_df['is_black_derived'] == 1].shape[0]\n",
    "    incarcerated_black = offense_df[(offense_df['is_black_derived'] == 1) & \n",
    "                                    (offense_df['COMMITMENT_TYPE'] == \"Illinois Department of Corrections\")].shape[0]\n",
    "    \n",
    "    total_white = offense_df[offense_df['is_white_derived'] == 1].shape[0]\n",
    "    incarcerated_white = offense_df[(offense_df['is_white_derived'] == 1) & \n",
    "                                    (offense_df['COMMITMENT_TYPE'] == \"Illinois Department of Corrections\")].shape[0]\n",
    "    \n",
    "    black_rate = incarcerated_black / total_black if total_black > 0 else 0\n",
    "    white_rate = incarcerated_white / total_white if total_white > 0 else 0\n",
    "    \n",
    "    return black_rate, white_rate\n",
    "\n",
    "offense_rates = []\n",
    "\n",
    "for offense in frequent_offenses:\n",
    "    black_rate, white_rate = calculate_incarceration_rates(offense)\n",
    "    offense_rates.append({'Offense': offense, \n",
    "                          'Black_Incarceration_Rate': black_rate, \n",
    "                          'White_Incarceration_Rate': white_rate})\n",
    "\n",
    "rates_df = pd.DataFrame(offense_rates)\n",
    "print(rates_df)"
   ]
  },
  {
   "cell_type": "code",
   "execution_count": 143,
   "metadata": {},
   "outputs": [
    {
     "name": "stdout",
     "output_type": "stream",
     "text": [
      "Disparities in Incarceration Rates:                                       Offense  disparity\n",
      "7                                   Narcotics   0.295341\n",
      "3                                     Battery   0.233480\n",
      "6                UUW - Unlawful Use of Weapon   0.214217\n",
      "1                                Retail Theft   0.146132\n",
      "9                                    Burglary   0.126164\n",
      "4                               Other Offense   0.110351\n",
      "5   Driving With Suspended Or Revoked License   0.085642\n",
      "8                                       Theft   0.068240\n",
      "2                        Residential Burglary   0.063677\n",
      "10                                        DUI   0.063143\n",
      "11                                    Robbery   0.061055\n",
      "0                             Vehicle-related  -0.031885\n"
     ]
    }
   ],
   "source": [
    "rates_df['disparity'] = rates_df['Black_Incarceration_Rate'] - rates_df['White_Incarceration_Rate']\n",
    "\n",
    "disparities = rates_df[['Offense', 'disparity']].sort_values(by='disparity', ascending=False)\n",
    "print(\"Disparities in Incarceration Rates:\",disparities)"
   ]
  },
  {
   "cell_type": "markdown",
   "metadata": {},
   "source": [
    "Narcotics, Battery, and UUW are the three largest categories where judges are more likely to incarcerate Black defendants than White defendants."
   ]
  },
  {
   "cell_type": "markdown",
   "metadata": {},
   "source": [
    "### 2.3.3: Examine whether this changes pre and post change to charging threshold for retail theft (13 points)\n",
    "\n",
    "One important question is not only whether there are disparities by offense type but also whether these disparities are changing over time.\n",
    "\n",
    "The SAO, for instance, announced in December of 2016 that they would no longer default to charging retail thefts of under \\$1,000 as felonies. This change might have (1) decreased disparities or (2) increased disparities, depending on the correlation between race/ethnicity and magnitude of goods stolen: [news coverage](https://www.dnainfo.com/chicago/20161215/little-village/kim-foxx-raises-bar-for-retail-theft-felonies/). \n",
    "\n",
    "Focusing on `simplified_offense_derived` == \"Retail theft.\" Using a function and/or loop (Dec. 2016 is always excluded as a transition month):\n",
    "\n",
    "- Compare Black-White disparities before and after the change using a two-month bandwidth (so pre is October and November 2016; post is January and February 2017)\n",
    "\n",
    "- Compare Black-White disparities before and after the change using a four-month bandwidth (so pre is August- November 2016; post is January - April 2017)\n",
    "\n",
    "- Compare Black-White disparities using an eight-month bandwidth\n",
    "\n",
    "- Compare Black-White disparities using a twelve-month bandwidth\n",
    "\n",
    "\n",
    "------------------ \n",
    "\n",
    "- Print a table with the results (any organization is fine as long as it's clear)  \n",
    "\n",
    "- Create a bar chart where the x axis represents different bandwidths (2, 4, etc); the y axis the size of the Black-White gap in whether the defendant receives incarceration, and for each of the x axis points, you have one shaded bar representing \"before\" the change, another representing \"after\" the change (make sure that before is ordered before after and the bandwidths are from smallest to largest)\n",
    "\n",
    "*Note*: for each of the bandwidths include dates the entire month (e.g., for the first, include not only 02-01-2017 but everything up through 02-28-2017; easiest way is for the subsetting to use the rounded `sentenceym_derived`). Also make sure to only include white or black defendants.\n",
    "\n",
    "\n",
    "**Extra credit**: because the bandwidths have different sample sizes, a better viz incorporates measures of uncertainty. Add standard errors to the estimates using the formula: $(\\dfrac{p(1-p)}{n})^{0.5}$ where $p$ is the gap and $N$ is the number of cases in each bandwidth period \n"
   ]
  },
  {
   "cell_type": "code",
   "execution_count": 149,
   "metadata": {},
   "outputs": [
    {
     "data": {
      "text/html": [
       "<div>\n",
       "<style scoped>\n",
       "    .dataframe tbody tr th:only-of-type {\n",
       "        vertical-align: middle;\n",
       "    }\n",
       "\n",
       "    .dataframe tbody tr th {\n",
       "        vertical-align: top;\n",
       "    }\n",
       "\n",
       "    .dataframe thead th {\n",
       "        text-align: right;\n",
       "    }\n",
       "</style>\n",
       "<table border=\"1\" class=\"dataframe\">\n",
       "  <thead>\n",
       "    <tr style=\"text-align: right;\">\n",
       "      <th></th>\n",
       "      <th>CASE_ID</th>\n",
       "      <th>CASE_PARTICIPANT_ID</th>\n",
       "      <th>RECEIVED_DATE</th>\n",
       "      <th>OFFENSE_CATEGORY</th>\n",
       "      <th>PRIMARY_CHARGE_FLAG</th>\n",
       "      <th>CHARGE_ID</th>\n",
       "      <th>CHARGE_VERSION_ID</th>\n",
       "      <th>DISPOSITION_CHARGED_OFFENSE_TITLE</th>\n",
       "      <th>CHARGE_COUNT</th>\n",
       "      <th>DISPOSITION_DATE</th>\n",
       "      <th>...</th>\n",
       "      <th>is_hisp_derived</th>\n",
       "      <th>is_white_derived</th>\n",
       "      <th>is_other_derived</th>\n",
       "      <th>is_male_derived</th>\n",
       "      <th>age_derived</th>\n",
       "      <th>sentenceymd_derived</th>\n",
       "      <th>sentenceym_derived</th>\n",
       "      <th>judgeid_derived</th>\n",
       "      <th>YearMonth</th>\n",
       "      <th>incarcerated</th>\n",
       "    </tr>\n",
       "  </thead>\n",
       "  <tbody>\n",
       "    <tr>\n",
       "      <th>39</th>\n",
       "      <td>157284878056</td>\n",
       "      <td>228346415717</td>\n",
       "      <td>8/29/2001 12:00:00 AM</td>\n",
       "      <td>PROMIS Conversion</td>\n",
       "      <td>True</td>\n",
       "      <td>55612048051</td>\n",
       "      <td>194069358273</td>\n",
       "      <td>RET THEFT/DISPLAY MERCH/&gt;$150</td>\n",
       "      <td>1</td>\n",
       "      <td>11/12/2013 12:00:00 AM</td>\n",
       "      <td>...</td>\n",
       "      <td>True</td>\n",
       "      <td>False</td>\n",
       "      <td>False</td>\n",
       "      <td>True</td>\n",
       "      <td>31.0</td>\n",
       "      <td>2013-11-08</td>\n",
       "      <td>2013-11-01</td>\n",
       "      <td>judge_296</td>\n",
       "      <td>2013-11</td>\n",
       "      <td>True</td>\n",
       "    </tr>\n",
       "    <tr>\n",
       "      <th>50</th>\n",
       "      <td>158663109151</td>\n",
       "      <td>248439204620</td>\n",
       "      <td>3/10/2001 12:00:00 AM</td>\n",
       "      <td>PROMIS Conversion</td>\n",
       "      <td>True</td>\n",
       "      <td>58023676525</td>\n",
       "      <td>747592835613</td>\n",
       "      <td>RET THEFT/DISP MERCH/&lt;$150/1ST</td>\n",
       "      <td>1</td>\n",
       "      <td>3/22/2016 12:00:00 AM</td>\n",
       "      <td>...</td>\n",
       "      <td>False</td>\n",
       "      <td>False</td>\n",
       "      <td>False</td>\n",
       "      <td>False</td>\n",
       "      <td>30.0</td>\n",
       "      <td>2016-03-22</td>\n",
       "      <td>2016-03-01</td>\n",
       "      <td>judge_35</td>\n",
       "      <td>2016-03</td>\n",
       "      <td>False</td>\n",
       "    </tr>\n",
       "    <tr>\n",
       "      <th>66</th>\n",
       "      <td>162816159271</td>\n",
       "      <td>113789301676</td>\n",
       "      <td>4/21/2002 12:00:00 AM</td>\n",
       "      <td>PROMIS Conversion</td>\n",
       "      <td>True</td>\n",
       "      <td>59368151356</td>\n",
       "      <td>678989817777</td>\n",
       "      <td>RET THEFT/DISP MERCH/&lt;$150/1ST</td>\n",
       "      <td>1</td>\n",
       "      <td>11/28/2012 12:00:00 AM</td>\n",
       "      <td>...</td>\n",
       "      <td>False</td>\n",
       "      <td>False</td>\n",
       "      <td>False</td>\n",
       "      <td>False</td>\n",
       "      <td>49.0</td>\n",
       "      <td>2012-11-28</td>\n",
       "      <td>2012-11-01</td>\n",
       "      <td>judge_35</td>\n",
       "      <td>2012-11</td>\n",
       "      <td>False</td>\n",
       "    </tr>\n",
       "    <tr>\n",
       "      <th>171</th>\n",
       "      <td>175427744780</td>\n",
       "      <td>172920102217</td>\n",
       "      <td>11/16/2003 12:00:00 AM</td>\n",
       "      <td>PROMIS Conversion</td>\n",
       "      <td>True</td>\n",
       "      <td>74224341826</td>\n",
       "      <td>697336028489</td>\n",
       "      <td>RET THEFT/DISP MERCH/&lt;$150/1ST</td>\n",
       "      <td>1</td>\n",
       "      <td>3/15/2013 12:00:00 AM</td>\n",
       "      <td>...</td>\n",
       "      <td>False</td>\n",
       "      <td>False</td>\n",
       "      <td>False</td>\n",
       "      <td>True</td>\n",
       "      <td>NaN</td>\n",
       "      <td>2013-03-15</td>\n",
       "      <td>2013-03-01</td>\n",
       "      <td>judge_90</td>\n",
       "      <td>2013-03</td>\n",
       "      <td>False</td>\n",
       "    </tr>\n",
       "    <tr>\n",
       "      <th>176</th>\n",
       "      <td>175522025479</td>\n",
       "      <td>173310236965</td>\n",
       "      <td>6/8/2003 12:00:00 AM</td>\n",
       "      <td>PROMIS Conversion</td>\n",
       "      <td>True</td>\n",
       "      <td>211098284702</td>\n",
       "      <td>387852662777</td>\n",
       "      <td>RETAIL THEFT</td>\n",
       "      <td>1</td>\n",
       "      <td>6/26/2012 12:00:00 AM</td>\n",
       "      <td>...</td>\n",
       "      <td>False</td>\n",
       "      <td>False</td>\n",
       "      <td>False</td>\n",
       "      <td>False</td>\n",
       "      <td>28.0</td>\n",
       "      <td>2012-06-26</td>\n",
       "      <td>2012-06-01</td>\n",
       "      <td>judge_236</td>\n",
       "      <td>2012-06</td>\n",
       "      <td>False</td>\n",
       "    </tr>\n",
       "    <tr>\n",
       "      <th>...</th>\n",
       "      <td>...</td>\n",
       "      <td>...</td>\n",
       "      <td>...</td>\n",
       "      <td>...</td>\n",
       "      <td>...</td>\n",
       "      <td>...</td>\n",
       "      <td>...</td>\n",
       "      <td>...</td>\n",
       "      <td>...</td>\n",
       "      <td>...</td>\n",
       "      <td>...</td>\n",
       "      <td>...</td>\n",
       "      <td>...</td>\n",
       "      <td>...</td>\n",
       "      <td>...</td>\n",
       "      <td>...</td>\n",
       "      <td>...</td>\n",
       "      <td>...</td>\n",
       "      <td>...</td>\n",
       "      <td>...</td>\n",
       "      <td>...</td>\n",
       "    </tr>\n",
       "    <tr>\n",
       "      <th>248017</th>\n",
       "      <td>444113052385</td>\n",
       "      <td>900635410005</td>\n",
       "      <td>10/14/2020 12:00:00 AM</td>\n",
       "      <td>Retail Theft</td>\n",
       "      <td>True</td>\n",
       "      <td>445188738052</td>\n",
       "      <td>835052047022</td>\n",
       "      <td>RETAIL THEFT/DISP MERCH/&lt;$300</td>\n",
       "      <td>1</td>\n",
       "      <td>12/23/2020 12:00:00 AM</td>\n",
       "      <td>...</td>\n",
       "      <td>False</td>\n",
       "      <td>False</td>\n",
       "      <td>False</td>\n",
       "      <td>True</td>\n",
       "      <td>59.0</td>\n",
       "      <td>2020-12-23</td>\n",
       "      <td>2020-12-01</td>\n",
       "      <td>judge_224</td>\n",
       "      <td>2020-12</td>\n",
       "      <td>False</td>\n",
       "    </tr>\n",
       "    <tr>\n",
       "      <th>248040</th>\n",
       "      <td>444208361067</td>\n",
       "      <td>900956181174</td>\n",
       "      <td>10/21/2020 12:00:00 AM</td>\n",
       "      <td>Retail Theft</td>\n",
       "      <td>True</td>\n",
       "      <td>445354698392</td>\n",
       "      <td>836787520848</td>\n",
       "      <td>THEFT</td>\n",
       "      <td>1</td>\n",
       "      <td>2/17/2021 12:00:00 AM</td>\n",
       "      <td>...</td>\n",
       "      <td>False</td>\n",
       "      <td>True</td>\n",
       "      <td>False</td>\n",
       "      <td>True</td>\n",
       "      <td>48.0</td>\n",
       "      <td>2021-02-17</td>\n",
       "      <td>2021-02-01</td>\n",
       "      <td>judge_288</td>\n",
       "      <td>2021-02</td>\n",
       "      <td>False</td>\n",
       "    </tr>\n",
       "    <tr>\n",
       "      <th>248063</th>\n",
       "      <td>444415426154</td>\n",
       "      <td>901666992719</td>\n",
       "      <td>11/5/2020 12:00:00 AM</td>\n",
       "      <td>Retail Theft</td>\n",
       "      <td>True</td>\n",
       "      <td>445752027858</td>\n",
       "      <td>832355649270</td>\n",
       "      <td>RETAIL THEFT</td>\n",
       "      <td>1</td>\n",
       "      <td>1/14/2021 12:00:00 AM</td>\n",
       "      <td>...</td>\n",
       "      <td>False</td>\n",
       "      <td>False</td>\n",
       "      <td>False</td>\n",
       "      <td>True</td>\n",
       "      <td>47.0</td>\n",
       "      <td>2021-01-14</td>\n",
       "      <td>2021-01-01</td>\n",
       "      <td>judge_62</td>\n",
       "      <td>2021-01</td>\n",
       "      <td>False</td>\n",
       "    </tr>\n",
       "    <tr>\n",
       "      <th>248066</th>\n",
       "      <td>444439804030</td>\n",
       "      <td>901753720787</td>\n",
       "      <td>11/7/2020 12:00:00 AM</td>\n",
       "      <td>Retail Theft</td>\n",
       "      <td>True</td>\n",
       "      <td>445790388276</td>\n",
       "      <td>838252448720</td>\n",
       "      <td>RETAIL THEFT/DISP MERCH/&lt;$300</td>\n",
       "      <td>1</td>\n",
       "      <td>3/23/2021 12:00:00 AM</td>\n",
       "      <td>...</td>\n",
       "      <td>False</td>\n",
       "      <td>False</td>\n",
       "      <td>False</td>\n",
       "      <td>True</td>\n",
       "      <td>NaN</td>\n",
       "      <td>2021-03-23</td>\n",
       "      <td>2021-03-01</td>\n",
       "      <td>judge_99</td>\n",
       "      <td>2021-03</td>\n",
       "      <td>False</td>\n",
       "    </tr>\n",
       "    <tr>\n",
       "      <th>248124</th>\n",
       "      <td>445056446797</td>\n",
       "      <td>903825190969</td>\n",
       "      <td>9/20/2020 12:00:00 AM</td>\n",
       "      <td>Retail Theft</td>\n",
       "      <td>True</td>\n",
       "      <td>447041199334</td>\n",
       "      <td>834775428731</td>\n",
       "      <td>RETAIL THEFT</td>\n",
       "      <td>1</td>\n",
       "      <td>2/16/2021 12:00:00 AM</td>\n",
       "      <td>...</td>\n",
       "      <td>False</td>\n",
       "      <td>False</td>\n",
       "      <td>False</td>\n",
       "      <td>False</td>\n",
       "      <td>51.0</td>\n",
       "      <td>2021-02-16</td>\n",
       "      <td>2021-02-01</td>\n",
       "      <td>judge_151</td>\n",
       "      <td>2021-02</td>\n",
       "      <td>False</td>\n",
       "    </tr>\n",
       "  </tbody>\n",
       "</table>\n",
       "<p>10546 rows × 54 columns</p>\n",
       "</div>"
      ],
      "text/plain": [
       "             CASE_ID  CASE_PARTICIPANT_ID           RECEIVED_DATE  \\\n",
       "39      157284878056         228346415717   8/29/2001 12:00:00 AM   \n",
       "50      158663109151         248439204620   3/10/2001 12:00:00 AM   \n",
       "66      162816159271         113789301676   4/21/2002 12:00:00 AM   \n",
       "171     175427744780         172920102217  11/16/2003 12:00:00 AM   \n",
       "176     175522025479         173310236965    6/8/2003 12:00:00 AM   \n",
       "...              ...                  ...                     ...   \n",
       "248017  444113052385         900635410005  10/14/2020 12:00:00 AM   \n",
       "248040  444208361067         900956181174  10/21/2020 12:00:00 AM   \n",
       "248063  444415426154         901666992719   11/5/2020 12:00:00 AM   \n",
       "248066  444439804030         901753720787   11/7/2020 12:00:00 AM   \n",
       "248124  445056446797         903825190969   9/20/2020 12:00:00 AM   \n",
       "\n",
       "         OFFENSE_CATEGORY  PRIMARY_CHARGE_FLAG     CHARGE_ID  \\\n",
       "39      PROMIS Conversion                 True   55612048051   \n",
       "50      PROMIS Conversion                 True   58023676525   \n",
       "66      PROMIS Conversion                 True   59368151356   \n",
       "171     PROMIS Conversion                 True   74224341826   \n",
       "176     PROMIS Conversion                 True  211098284702   \n",
       "...                   ...                  ...           ...   \n",
       "248017       Retail Theft                 True  445188738052   \n",
       "248040       Retail Theft                 True  445354698392   \n",
       "248063       Retail Theft                 True  445752027858   \n",
       "248066       Retail Theft                 True  445790388276   \n",
       "248124       Retail Theft                 True  447041199334   \n",
       "\n",
       "        CHARGE_VERSION_ID DISPOSITION_CHARGED_OFFENSE_TITLE  CHARGE_COUNT  \\\n",
       "39           194069358273     RET THEFT/DISPLAY MERCH/>$150             1   \n",
       "50           747592835613    RET THEFT/DISP MERCH/<$150/1ST             1   \n",
       "66           678989817777    RET THEFT/DISP MERCH/<$150/1ST             1   \n",
       "171          697336028489    RET THEFT/DISP MERCH/<$150/1ST             1   \n",
       "176          387852662777                      RETAIL THEFT             1   \n",
       "...                   ...                               ...           ...   \n",
       "248017       835052047022     RETAIL THEFT/DISP MERCH/<$300             1   \n",
       "248040       836787520848                             THEFT             1   \n",
       "248063       832355649270                      RETAIL THEFT             1   \n",
       "248066       838252448720     RETAIL THEFT/DISP MERCH/<$300             1   \n",
       "248124       834775428731                      RETAIL THEFT             1   \n",
       "\n",
       "              DISPOSITION_DATE  ... is_hisp_derived is_white_derived  \\\n",
       "39      11/12/2013 12:00:00 AM  ...            True            False   \n",
       "50       3/22/2016 12:00:00 AM  ...           False            False   \n",
       "66      11/28/2012 12:00:00 AM  ...           False            False   \n",
       "171      3/15/2013 12:00:00 AM  ...           False            False   \n",
       "176      6/26/2012 12:00:00 AM  ...           False            False   \n",
       "...                        ...  ...             ...              ...   \n",
       "248017  12/23/2020 12:00:00 AM  ...           False            False   \n",
       "248040   2/17/2021 12:00:00 AM  ...           False             True   \n",
       "248063   1/14/2021 12:00:00 AM  ...           False            False   \n",
       "248066   3/23/2021 12:00:00 AM  ...           False            False   \n",
       "248124   2/16/2021 12:00:00 AM  ...           False            False   \n",
       "\n",
       "       is_other_derived is_male_derived age_derived sentenceymd_derived  \\\n",
       "39                False            True        31.0          2013-11-08   \n",
       "50                False           False        30.0          2016-03-22   \n",
       "66                False           False        49.0          2012-11-28   \n",
       "171               False            True         NaN          2013-03-15   \n",
       "176               False           False        28.0          2012-06-26   \n",
       "...                 ...             ...         ...                 ...   \n",
       "248017            False            True        59.0          2020-12-23   \n",
       "248040            False            True        48.0          2021-02-17   \n",
       "248063            False            True        47.0          2021-01-14   \n",
       "248066            False            True         NaN          2021-03-23   \n",
       "248124            False           False        51.0          2021-02-16   \n",
       "\n",
       "       sentenceym_derived judgeid_derived YearMonth incarcerated  \n",
       "39             2013-11-01       judge_296   2013-11         True  \n",
       "50             2016-03-01        judge_35   2016-03        False  \n",
       "66             2012-11-01        judge_35   2012-11        False  \n",
       "171            2013-03-01        judge_90   2013-03        False  \n",
       "176            2012-06-01       judge_236   2012-06        False  \n",
       "...                   ...             ...       ...          ...  \n",
       "248017         2020-12-01       judge_224   2020-12        False  \n",
       "248040         2021-02-01       judge_288   2021-02        False  \n",
       "248063         2021-01-01        judge_62   2021-01        False  \n",
       "248066         2021-03-01        judge_99   2021-03        False  \n",
       "248124         2021-02-01       judge_151   2021-02        False  \n",
       "\n",
       "[10546 rows x 54 columns]"
      ]
     },
     "execution_count": 149,
     "metadata": {},
     "output_type": "execute_result"
    }
   ],
   "source": [
    "ds[ds['simplified_offense_derived'] == \"Retail Theft\"] # Making sure the capitalization is correct"
   ]
  },
  {
   "cell_type": "code",
   "execution_count": 159,
   "metadata": {},
   "outputs": [
    {
     "data": {
      "text/plain": [
       "<Figure size 1000x600 with 0 Axes>"
      ]
     },
     "execution_count": 159,
     "metadata": {},
     "output_type": "execute_result"
    },
    {
     "data": {
      "text/plain": [
       "<BarContainer object of 4 artists>"
      ]
     },
     "execution_count": 159,
     "metadata": {},
     "output_type": "execute_result"
    },
    {
     "data": {
      "text/plain": [
       "<BarContainer object of 4 artists>"
      ]
     },
     "execution_count": 159,
     "metadata": {},
     "output_type": "execute_result"
    },
    {
     "data": {
      "text/plain": [
       "Text(0.5, 0, 'Bandwidth (Months)')"
      ]
     },
     "execution_count": 159,
     "metadata": {},
     "output_type": "execute_result"
    },
    {
     "data": {
      "text/plain": [
       "Text(0, 0.5, 'Black - White Disparity in Incarceration Proportion')"
      ]
     },
     "execution_count": 159,
     "metadata": {},
     "output_type": "execute_result"
    },
    {
     "data": {
      "text/plain": [
       "Text(0.5, 1.0, 'Disparity in Incarceration: Before and After Policy Change')"
      ]
     },
     "execution_count": 159,
     "metadata": {},
     "output_type": "execute_result"
    },
    {
     "data": {
      "text/plain": [
       "([<matplotlib.axis.XTick at 0x15688a5a0>,\n",
       "  <matplotlib.axis.XTick at 0x156175700>,\n",
       "  <matplotlib.axis.XTick at 0x1561763f0>,\n",
       "  <matplotlib.axis.XTick at 0x156843680>],\n",
       " [Text(0.175, 0, '2 Months'),\n",
       "  Text(1.175, 0, '4 Months'),\n",
       "  Text(2.175, 0, '8 Months'),\n",
       "  Text(3.175, 0, '12 Months')])"
      ]
     },
     "execution_count": 159,
     "metadata": {},
     "output_type": "execute_result"
    },
    {
     "data": {
      "text/plain": [
       "<matplotlib.legend.Legend at 0x15688b560>"
      ]
     },
     "execution_count": 159,
     "metadata": {},
     "output_type": "execute_result"
    },
    {
     "data": {
      "image/png": "[encoded data removed]",
      "text/plain": [
       "<Figure size 1000x600 with 1 Axes>"
      ]
     },
     "metadata": {},
     "output_type": "display_data"
    }
   ],
   "source": [
    "retail_theft_df = ds[ds['simplified_offense_derived'] == \"Retail Theft\"]\n",
    "\n",
    "def calculate_disparities(start_date, end_date):\n",
    "    time_window_df = retail_theft_df[(retail_theft_df['sentenceym_derived'] >= start_date) &\n",
    "                                      (retail_theft_df['sentenceym_derived'] <= end_date)]\n",
    "    \n",
    "    total_black = time_window_df[time_window_df['is_black_derived'] == 1].shape[0]\n",
    "    incarcerated_black = time_window_df[(time_window_df['is_black_derived'] == 1) & \n",
    "                                        (time_window_df['COMMITMENT_TYPE'] == \"Illinois Department of Corrections\")].shape[0]\n",
    "\n",
    "    total_white = time_window_df[time_window_df['is_white_derived'] == 1].shape[0]\n",
    "    incarcerated_white = time_window_df[(time_window_df['is_white_derived'] == 1) & \n",
    "                                        (time_window_df['COMMITMENT_TYPE'] == \"Illinois Department of Corrections\")].shape[0]\n",
    "\n",
    "    prop_black = incarcerated_black / total_black if total_black > 0 else 0\n",
    "    prop_white = incarcerated_white / total_white if total_white > 0 else 0\n",
    "\n",
    "    disparity = prop_black - prop_white\n",
    "    return prop_black, prop_white, disparity, total_black, total_white\n",
    "\n",
    "\n",
    "bandwidths = {\n",
    "    '2 Months': ('2016-10', '2016-11', '2017-01', '2017-02'),\n",
    "    '4 Months': ('2016-08', '2016-11', '2017-01', '2017-04'),\n",
    "    '8 Months': ('2016-04', '2016-11', '2017-01', '2017-04'),\n",
    "    '12 Months': ('2015-12', '2016-11', '2017-01', '2017-04')\n",
    "}\n",
    "\n",
    "results = []\n",
    "\n",
    "for label, (start_prev, end_prev, start_post, end_post) in bandwidths.items():\n",
    "    prop_black_prev, prop_white_prev, disparity_prev, n_black_prev, n_white_prev = calculate_disparities(start_prev, end_prev)\n",
    "    prop_black_post, prop_white_post, disparity_post, n_black_post, n_white_post = calculate_disparities(start_post, end_post)\n",
    "    \n",
    "    results.append({\n",
    "        'Bandwidth': label,\n",
    "        'Pre_Disparity': disparity_prev,\n",
    "        'Post_Disparity': disparity_post,\n",
    "        'N_Black_Pre': n_black_prev,\n",
    "        'N_White_Pre': n_white_prev,\n",
    "        'N_Black_Post': n_black_post,\n",
    "        'N_White_Post': n_white_post,\n",
    "    })\n",
    "\n",
    "results_df = pd.DataFrame(results)\n",
    "\n",
    "# Plot\n",
    "plt.figure(figsize=(10, 6))\n",
    "bar_width = 0.35\n",
    "positions = range(len(results_df))\n",
    "\n",
    "plt.bar(positions, results_df['Pre_Disparity'], bar_width, label='Before Change', color='cornflowerblue')\n",
    "plt.bar([p + bar_width for p in positions], results_df['Post_Disparity'], bar_width, label='After Change', color='fuchsia')\n",
    "\n",
    "plt.xlabel('Bandwidth (Number of Months)')\n",
    "plt.ylabel('Black - White Disparity in Incarceration Proportion')\n",
    "plt.title('Disparity in Incarceration: Before and After Policy Change')\n",
    "plt.xticks([p + bar_width / 2 for p in positions], results_df['Bandwidth'])\n",
    "plt.legend()\n",
    "plt.show()"
   ]
  },
  {
   "cell_type": "markdown",
   "metadata": {},
   "source": [
    "### 2.3.3.1: Interpret the results (2 points)\n",
    "\n",
    "Write a two-sentence interpretation of the results. What might this show about how people on both sides of the issue---those who argued that the retail theft policy change would narrow disparities; those who argued that the change may widen disparities--could support their claims? "
   ]
  },
  {
   "cell_type": "markdown",
   "metadata": {},
   "source": [
    "Supporters of the argument that the policy change would reduce disparities could point to a reduction in the disparity in incarceration rates post-policy change, particularly in longer bandwidths, while those concerned that it might widen disparities could highlight the significant increase in disparity in the 2 month bandwidth. Although it seems that the disparities have increased post-policy after 2 months, it seems that there is long-term sustained decrease in disparities, as evident in the decrease in after change disparity."
   ]
  },
  {
   "cell_type": "code",
   "execution_count": null,
   "metadata": {},
   "outputs": [],
   "source": []
  }
 ],
 "metadata": {
  "kernelspec": {
   "display_name": "Python 3 (ipykernel)",
   "language": "python",
   "name": "python3"
  },
  "language_info": {
   "codemirror_mode": {
    "name": "ipython",
    "version": 3
   },
   "file_extension": ".py",
   "mimetype": "text/x-python",
   "name": "python",
   "nbconvert_exporter": "python",
   "pygments_lexer": "ipython3",
   "version": "3.12.4"
  }
 },
 "nbformat": 4,
 "nbformat_minor": 4
}
